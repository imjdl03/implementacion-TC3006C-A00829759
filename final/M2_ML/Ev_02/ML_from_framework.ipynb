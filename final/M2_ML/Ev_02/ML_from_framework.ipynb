{
  "cells": [
    {
      "cell_type": "markdown",
      "metadata": {
        "id": "_7cNt-avDKMn"
      },
      "source": [
        "# Momento de Retroalimentación: Módulo 2 Uso de framework o biblioteca de aprendizaje máquina para la implementación de una solución"
      ]
    },
    {
      "cell_type": "markdown",
      "metadata": {
        "id": "lGL4JNvKntdw"
      },
      "source": [
        "Jorge Eduardo de León Reyna - A00829759"
      ]
    },
    {
      "cell_type": "markdown",
      "metadata": {
        "id": "qSKHb03Hb7YI"
      },
      "source": [
        "## Carga de librerias"
      ]
    },
    {
      "cell_type": "code",
      "execution_count": 39,
      "metadata": {
        "id": "-jjLyTOob6pa"
      },
      "outputs": [],
      "source": [
        "import pandas as pd\n",
        "import math\n",
        "import numpy as np\n",
        "from sklearn.model_selection import train_test_split\n",
        "from sklearn.linear_model import LogisticRegression\n",
        "from sklearn.metrics import accuracy_score\n",
        "from sklearn.preprocessing import OneHotEncoder\n",
        "from sklearn.compose import ColumnTransformer\n",
        "from sklearn.pipeline import Pipeline\n",
        "from sklearn.metrics import confusion_matrix, classification_report"
      ]
    },
    {
      "cell_type": "markdown",
      "metadata": {
        "id": "TVz7sji4LUCv"
      },
      "source": [
        "## Descripcion del dataset utilizado"
      ]
    },
    {
      "cell_type": "markdown",
      "metadata": {
        "id": "uaVenFpvLYTt"
      },
      "source": [
        "- **Dataset utilizado:** Heart Failure Prediction\n",
        "- **Descripción y contexto del problema a resolver:** Las enfermedades cardiovasculares son la principal causa de muerte en todo el mundo, cobrando cerca de 17.9 millones de vidas al año y representando el 31% de todas las muertes. La mayoría de estas muertes son por ataques cardíacos y accidentes cerebrovasculares, y muchas ocurren prematuramente en personas menores de 70 años. La insuficiencia cardíaca también es común debido a estas enfermedades. Un conjunto de datos con 11 características puede ayudar a predecir posibles problemas cardíacos. Las personas con enfermedades cardíacas o alto riesgo cardiovascular, debido a factores como hipertensión o diabetes, necesitan detección temprana y manejo, donde un modelo de aprendizaje automático puede ser muy útil.\n",
        "- **Atributos o campos:**\n",
        "  - Age: edad del paciente\n",
        "      - años\n",
        "  - Sex: sexo del paciente\n",
        "      - M: Male, F: Female\n",
        "  - ChestPainType: tipo de dolor de pecho\n",
        "      - TA: Typical Angina, ATA: Atypical Angina, NAP: Non-Anginal Pain, ASY: Asymptomatic\n",
        "  - RestingBP: presión arterial en reposo\n",
        "      - mm Hg\n",
        "  - Cholesterol: colesterol\n",
        "      - mm/dl\n",
        "  - FastingBS: azucar en la sangre en ayunas\n",
        "      - 1: si FastingBS > 120 mg/dl, 0: otro\n",
        "  - RestingECG: resultados de electrocardiograma en reposo\n",
        "      - Normal: Normal, ST: Anomalía de la onda ST-T (inversiones de onda T y/o elevación o depresión del segmento ST > 0.05 mV), LVH: mostrando hipertrofia ventricular izquierda probable o definitiva según los criterios de Estes.\n",
        "  - MaxHR: frecuencia cardíaca máxima alcanzada\n",
        "      - Valor numero entre 60 y 202\n",
        "  - ExerciseAngina: angina inducida por el ejercicio\n",
        "      - Y: Yes, N: No\n",
        "  - Oldpeak: Descenso antiguo = ST\n",
        "      - Valor numerico\n",
        "  - ST_Slope: La pendiente del segmento ST durante el ejercicio máximo\n",
        "      - Up: upsloping, Flat: flat, Down: downsloping\n",
        "  - HeartDisease: salida\n",
        "      - 1: heart disease, 0: Normal\n",
        "- **Enlace:** https://www.kaggle.com/datasets/fedesoriano/heart-failure-prediction?resource=download\n",
        "- **Descripcion del problema:** En este dataset se busca hacer un modelo de clasificación, donde se tienen dos clases posibles para predecir: \"heart disease(1)\" y \"normal(1)\".\n",
        "- **Cantidad de registros:** 918\n",
        "\n",
        "\n",
        "\n",
        "\n",
        "\n",
        "\n"
      ]
    },
    {
      "cell_type": "markdown",
      "metadata": {
        "id": "t3TrqLifD8le"
      },
      "source": [
        "## Cargando Dataset"
      ]
    },
    {
      "cell_type": "code",
      "execution_count": 40,
      "metadata": {
        "colab": {
          "base_uri": "https://localhost:8080/",
          "height": 206
        },
        "id": "E2OjXeLKbzFD",
        "outputId": "e29f3611-5276-425a-9bb8-3a6ad68943df"
      },
      "outputs": [
        {
          "output_type": "execute_result",
          "data": {
            "text/plain": [
              "   Age Sex ChestPainType  RestingBP  Cholesterol  FastingBS RestingECG  MaxHR  \\\n",
              "0   40   M           ATA        140          289          0     Normal    172   \n",
              "1   49   F           NAP        160          180          0     Normal    156   \n",
              "2   37   M           ATA        130          283          0         ST     98   \n",
              "3   48   F           ASY        138          214          0     Normal    108   \n",
              "4   54   M           NAP        150          195          0     Normal    122   \n",
              "\n",
              "  ExerciseAngina  Oldpeak ST_Slope  HeartDisease  \n",
              "0              N      0.0       Up             0  \n",
              "1              N      1.0     Flat             1  \n",
              "2              N      0.0       Up             0  \n",
              "3              Y      1.5     Flat             1  \n",
              "4              N      0.0       Up             0  "
            ],
            "text/html": [
              "\n",
              "  <div id=\"df-131517ad-bb06-41aa-a6fa-17287afc592a\" class=\"colab-df-container\">\n",
              "    <div>\n",
              "<style scoped>\n",
              "    .dataframe tbody tr th:only-of-type {\n",
              "        vertical-align: middle;\n",
              "    }\n",
              "\n",
              "    .dataframe tbody tr th {\n",
              "        vertical-align: top;\n",
              "    }\n",
              "\n",
              "    .dataframe thead th {\n",
              "        text-align: right;\n",
              "    }\n",
              "</style>\n",
              "<table border=\"1\" class=\"dataframe\">\n",
              "  <thead>\n",
              "    <tr style=\"text-align: right;\">\n",
              "      <th></th>\n",
              "      <th>Age</th>\n",
              "      <th>Sex</th>\n",
              "      <th>ChestPainType</th>\n",
              "      <th>RestingBP</th>\n",
              "      <th>Cholesterol</th>\n",
              "      <th>FastingBS</th>\n",
              "      <th>RestingECG</th>\n",
              "      <th>MaxHR</th>\n",
              "      <th>ExerciseAngina</th>\n",
              "      <th>Oldpeak</th>\n",
              "      <th>ST_Slope</th>\n",
              "      <th>HeartDisease</th>\n",
              "    </tr>\n",
              "  </thead>\n",
              "  <tbody>\n",
              "    <tr>\n",
              "      <th>0</th>\n",
              "      <td>40</td>\n",
              "      <td>M</td>\n",
              "      <td>ATA</td>\n",
              "      <td>140</td>\n",
              "      <td>289</td>\n",
              "      <td>0</td>\n",
              "      <td>Normal</td>\n",
              "      <td>172</td>\n",
              "      <td>N</td>\n",
              "      <td>0.0</td>\n",
              "      <td>Up</td>\n",
              "      <td>0</td>\n",
              "    </tr>\n",
              "    <tr>\n",
              "      <th>1</th>\n",
              "      <td>49</td>\n",
              "      <td>F</td>\n",
              "      <td>NAP</td>\n",
              "      <td>160</td>\n",
              "      <td>180</td>\n",
              "      <td>0</td>\n",
              "      <td>Normal</td>\n",
              "      <td>156</td>\n",
              "      <td>N</td>\n",
              "      <td>1.0</td>\n",
              "      <td>Flat</td>\n",
              "      <td>1</td>\n",
              "    </tr>\n",
              "    <tr>\n",
              "      <th>2</th>\n",
              "      <td>37</td>\n",
              "      <td>M</td>\n",
              "      <td>ATA</td>\n",
              "      <td>130</td>\n",
              "      <td>283</td>\n",
              "      <td>0</td>\n",
              "      <td>ST</td>\n",
              "      <td>98</td>\n",
              "      <td>N</td>\n",
              "      <td>0.0</td>\n",
              "      <td>Up</td>\n",
              "      <td>0</td>\n",
              "    </tr>\n",
              "    <tr>\n",
              "      <th>3</th>\n",
              "      <td>48</td>\n",
              "      <td>F</td>\n",
              "      <td>ASY</td>\n",
              "      <td>138</td>\n",
              "      <td>214</td>\n",
              "      <td>0</td>\n",
              "      <td>Normal</td>\n",
              "      <td>108</td>\n",
              "      <td>Y</td>\n",
              "      <td>1.5</td>\n",
              "      <td>Flat</td>\n",
              "      <td>1</td>\n",
              "    </tr>\n",
              "    <tr>\n",
              "      <th>4</th>\n",
              "      <td>54</td>\n",
              "      <td>M</td>\n",
              "      <td>NAP</td>\n",
              "      <td>150</td>\n",
              "      <td>195</td>\n",
              "      <td>0</td>\n",
              "      <td>Normal</td>\n",
              "      <td>122</td>\n",
              "      <td>N</td>\n",
              "      <td>0.0</td>\n",
              "      <td>Up</td>\n",
              "      <td>0</td>\n",
              "    </tr>\n",
              "  </tbody>\n",
              "</table>\n",
              "</div>\n",
              "    <div class=\"colab-df-buttons\">\n",
              "\n",
              "  <div class=\"colab-df-container\">\n",
              "    <button class=\"colab-df-convert\" onclick=\"convertToInteractive('df-131517ad-bb06-41aa-a6fa-17287afc592a')\"\n",
              "            title=\"Convert this dataframe to an interactive table.\"\n",
              "            style=\"display:none;\">\n",
              "\n",
              "  <svg xmlns=\"http://www.w3.org/2000/svg\" height=\"24px\" viewBox=\"0 -960 960 960\">\n",
              "    <path d=\"M120-120v-720h720v720H120Zm60-500h600v-160H180v160Zm220 220h160v-160H400v160Zm0 220h160v-160H400v160ZM180-400h160v-160H180v160Zm440 0h160v-160H620v160ZM180-180h160v-160H180v160Zm440 0h160v-160H620v160Z\"/>\n",
              "  </svg>\n",
              "    </button>\n",
              "\n",
              "  <style>\n",
              "    .colab-df-container {\n",
              "      display:flex;\n",
              "      gap: 12px;\n",
              "    }\n",
              "\n",
              "    .colab-df-convert {\n",
              "      background-color: #E8F0FE;\n",
              "      border: none;\n",
              "      border-radius: 50%;\n",
              "      cursor: pointer;\n",
              "      display: none;\n",
              "      fill: #1967D2;\n",
              "      height: 32px;\n",
              "      padding: 0 0 0 0;\n",
              "      width: 32px;\n",
              "    }\n",
              "\n",
              "    .colab-df-convert:hover {\n",
              "      background-color: #E2EBFA;\n",
              "      box-shadow: 0px 1px 2px rgba(60, 64, 67, 0.3), 0px 1px 3px 1px rgba(60, 64, 67, 0.15);\n",
              "      fill: #174EA6;\n",
              "    }\n",
              "\n",
              "    .colab-df-buttons div {\n",
              "      margin-bottom: 4px;\n",
              "    }\n",
              "\n",
              "    [theme=dark] .colab-df-convert {\n",
              "      background-color: #3B4455;\n",
              "      fill: #D2E3FC;\n",
              "    }\n",
              "\n",
              "    [theme=dark] .colab-df-convert:hover {\n",
              "      background-color: #434B5C;\n",
              "      box-shadow: 0px 1px 3px 1px rgba(0, 0, 0, 0.15);\n",
              "      filter: drop-shadow(0px 1px 2px rgba(0, 0, 0, 0.3));\n",
              "      fill: #FFFFFF;\n",
              "    }\n",
              "  </style>\n",
              "\n",
              "    <script>\n",
              "      const buttonEl =\n",
              "        document.querySelector('#df-131517ad-bb06-41aa-a6fa-17287afc592a button.colab-df-convert');\n",
              "      buttonEl.style.display =\n",
              "        google.colab.kernel.accessAllowed ? 'block' : 'none';\n",
              "\n",
              "      async function convertToInteractive(key) {\n",
              "        const element = document.querySelector('#df-131517ad-bb06-41aa-a6fa-17287afc592a');\n",
              "        const dataTable =\n",
              "          await google.colab.kernel.invokeFunction('convertToInteractive',\n",
              "                                                    [key], {});\n",
              "        if (!dataTable) return;\n",
              "\n",
              "        const docLinkHtml = 'Like what you see? Visit the ' +\n",
              "          '<a target=\"_blank\" href=https://colab.research.google.com/notebooks/data_table.ipynb>data table notebook</a>'\n",
              "          + ' to learn more about interactive tables.';\n",
              "        element.innerHTML = '';\n",
              "        dataTable['output_type'] = 'display_data';\n",
              "        await google.colab.output.renderOutput(dataTable, element);\n",
              "        const docLink = document.createElement('div');\n",
              "        docLink.innerHTML = docLinkHtml;\n",
              "        element.appendChild(docLink);\n",
              "      }\n",
              "    </script>\n",
              "  </div>\n",
              "\n",
              "\n",
              "<div id=\"df-84c092e7-c5b1-419e-b6e1-23cde26df203\">\n",
              "  <button class=\"colab-df-quickchart\" onclick=\"quickchart('df-84c092e7-c5b1-419e-b6e1-23cde26df203')\"\n",
              "            title=\"Suggest charts.\"\n",
              "            style=\"display:none;\">\n",
              "\n",
              "<svg xmlns=\"http://www.w3.org/2000/svg\" height=\"24px\"viewBox=\"0 0 24 24\"\n",
              "     width=\"24px\">\n",
              "    <g>\n",
              "        <path d=\"M19 3H5c-1.1 0-2 .9-2 2v14c0 1.1.9 2 2 2h14c1.1 0 2-.9 2-2V5c0-1.1-.9-2-2-2zM9 17H7v-7h2v7zm4 0h-2V7h2v10zm4 0h-2v-4h2v4z\"/>\n",
              "    </g>\n",
              "</svg>\n",
              "  </button>\n",
              "\n",
              "<style>\n",
              "  .colab-df-quickchart {\n",
              "      --bg-color: #E8F0FE;\n",
              "      --fill-color: #1967D2;\n",
              "      --hover-bg-color: #E2EBFA;\n",
              "      --hover-fill-color: #174EA6;\n",
              "      --disabled-fill-color: #AAA;\n",
              "      --disabled-bg-color: #DDD;\n",
              "  }\n",
              "\n",
              "  [theme=dark] .colab-df-quickchart {\n",
              "      --bg-color: #3B4455;\n",
              "      --fill-color: #D2E3FC;\n",
              "      --hover-bg-color: #434B5C;\n",
              "      --hover-fill-color: #FFFFFF;\n",
              "      --disabled-bg-color: #3B4455;\n",
              "      --disabled-fill-color: #666;\n",
              "  }\n",
              "\n",
              "  .colab-df-quickchart {\n",
              "    background-color: var(--bg-color);\n",
              "    border: none;\n",
              "    border-radius: 50%;\n",
              "    cursor: pointer;\n",
              "    display: none;\n",
              "    fill: var(--fill-color);\n",
              "    height: 32px;\n",
              "    padding: 0;\n",
              "    width: 32px;\n",
              "  }\n",
              "\n",
              "  .colab-df-quickchart:hover {\n",
              "    background-color: var(--hover-bg-color);\n",
              "    box-shadow: 0 1px 2px rgba(60, 64, 67, 0.3), 0 1px 3px 1px rgba(60, 64, 67, 0.15);\n",
              "    fill: var(--button-hover-fill-color);\n",
              "  }\n",
              "\n",
              "  .colab-df-quickchart-complete:disabled,\n",
              "  .colab-df-quickchart-complete:disabled:hover {\n",
              "    background-color: var(--disabled-bg-color);\n",
              "    fill: var(--disabled-fill-color);\n",
              "    box-shadow: none;\n",
              "  }\n",
              "\n",
              "  .colab-df-spinner {\n",
              "    border: 2px solid var(--fill-color);\n",
              "    border-color: transparent;\n",
              "    border-bottom-color: var(--fill-color);\n",
              "    animation:\n",
              "      spin 1s steps(1) infinite;\n",
              "  }\n",
              "\n",
              "  @keyframes spin {\n",
              "    0% {\n",
              "      border-color: transparent;\n",
              "      border-bottom-color: var(--fill-color);\n",
              "      border-left-color: var(--fill-color);\n",
              "    }\n",
              "    20% {\n",
              "      border-color: transparent;\n",
              "      border-left-color: var(--fill-color);\n",
              "      border-top-color: var(--fill-color);\n",
              "    }\n",
              "    30% {\n",
              "      border-color: transparent;\n",
              "      border-left-color: var(--fill-color);\n",
              "      border-top-color: var(--fill-color);\n",
              "      border-right-color: var(--fill-color);\n",
              "    }\n",
              "    40% {\n",
              "      border-color: transparent;\n",
              "      border-right-color: var(--fill-color);\n",
              "      border-top-color: var(--fill-color);\n",
              "    }\n",
              "    60% {\n",
              "      border-color: transparent;\n",
              "      border-right-color: var(--fill-color);\n",
              "    }\n",
              "    80% {\n",
              "      border-color: transparent;\n",
              "      border-right-color: var(--fill-color);\n",
              "      border-bottom-color: var(--fill-color);\n",
              "    }\n",
              "    90% {\n",
              "      border-color: transparent;\n",
              "      border-bottom-color: var(--fill-color);\n",
              "    }\n",
              "  }\n",
              "</style>\n",
              "\n",
              "  <script>\n",
              "    async function quickchart(key) {\n",
              "      const quickchartButtonEl =\n",
              "        document.querySelector('#' + key + ' button');\n",
              "      quickchartButtonEl.disabled = true;  // To prevent multiple clicks.\n",
              "      quickchartButtonEl.classList.add('colab-df-spinner');\n",
              "      try {\n",
              "        const charts = await google.colab.kernel.invokeFunction(\n",
              "            'suggestCharts', [key], {});\n",
              "      } catch (error) {\n",
              "        console.error('Error during call to suggestCharts:', error);\n",
              "      }\n",
              "      quickchartButtonEl.classList.remove('colab-df-spinner');\n",
              "      quickchartButtonEl.classList.add('colab-df-quickchart-complete');\n",
              "    }\n",
              "    (() => {\n",
              "      let quickchartButtonEl =\n",
              "        document.querySelector('#df-84c092e7-c5b1-419e-b6e1-23cde26df203 button');\n",
              "      quickchartButtonEl.style.display =\n",
              "        google.colab.kernel.accessAllowed ? 'block' : 'none';\n",
              "    })();\n",
              "  </script>\n",
              "</div>\n",
              "    </div>\n",
              "  </div>\n"
            ]
          },
          "metadata": {},
          "execution_count": 40
        }
      ],
      "source": [
        "df = pd.read_csv(\"/content/heart.csv\")\n",
        "df.head()"
      ]
    },
    {
      "cell_type": "code",
      "source": [
        "# obteniendo cantidad de registros\n",
        "len(df)"
      ],
      "metadata": {
        "colab": {
          "base_uri": "https://localhost:8080/"
        },
        "id": "BFfHALrn819_",
        "outputId": "dcc1d4ef-03e2-43b1-ce9a-54847a94ae9c"
      },
      "execution_count": 41,
      "outputs": [
        {
          "output_type": "execute_result",
          "data": {
            "text/plain": [
              "918"
            ]
          },
          "metadata": {},
          "execution_count": 41
        }
      ]
    },
    {
      "cell_type": "markdown",
      "metadata": {
        "id": "6HAtfQ8igvf4"
      },
      "source": [
        "#### Limpieza de datos inicial"
      ]
    },
    {
      "cell_type": "code",
      "execution_count": 42,
      "metadata": {
        "id": "jFkpK5T4gxnJ"
      },
      "outputs": [],
      "source": [
        "df = df.dropna()\n",
        "df = df.drop_duplicates()\n",
        "df = df.reset_index(drop=True)"
      ]
    },
    {
      "cell_type": "markdown",
      "metadata": {
        "id": "wnSMIoQodgZe"
      },
      "source": [
        "## Matriz de correlación\n",
        "Se busca encontrar las variables con mayor influencia sobre la variable objetivo (\"charges\") para utilizar las mismas en las pruebas del modelo."
      ]
    },
    {
      "cell_type": "code",
      "execution_count": 43,
      "metadata": {
        "colab": {
          "base_uri": "https://localhost:8080/"
        },
        "id": "Ig_7fikydZwd",
        "outputId": "d50b9acc-f547-46ed-ef62-15a30e35b263"
      },
      "outputs": [
        {
          "output_type": "stream",
          "name": "stdout",
          "text": [
            "                   Age  RestingBP  Cholesterol  FastingBS     MaxHR   Oldpeak  \\\n",
            "Age           1.000000   0.254399    -0.095282   0.198039 -0.382045  0.258612   \n",
            "RestingBP     0.254399   1.000000     0.100893   0.070193 -0.112135  0.164803   \n",
            "Cholesterol  -0.095282   0.100893     1.000000  -0.260974  0.235792  0.050148   \n",
            "FastingBS     0.198039   0.070193    -0.260974   1.000000 -0.131438  0.052698   \n",
            "MaxHR        -0.382045  -0.112135     0.235792  -0.131438  1.000000 -0.160691   \n",
            "Oldpeak       0.258612   0.164803     0.050148   0.052698 -0.160691  1.000000   \n",
            "HeartDisease  0.282039   0.107589    -0.232741   0.267291 -0.400421  0.403951   \n",
            "\n",
            "              HeartDisease  \n",
            "Age               0.282039  \n",
            "RestingBP         0.107589  \n",
            "Cholesterol      -0.232741  \n",
            "FastingBS         0.267291  \n",
            "MaxHR            -0.400421  \n",
            "Oldpeak           0.403951  \n",
            "HeartDisease      1.000000  \n"
          ]
        },
        {
          "output_type": "stream",
          "name": "stderr",
          "text": [
            "<ipython-input-43-becb50483c66>:1: FutureWarning: The default value of numeric_only in DataFrame.corr is deprecated. In a future version, it will default to False. Select only valid columns or specify the value of numeric_only to silence this warning.\n",
            "  correlation_matrix = df.corr()\n"
          ]
        }
      ],
      "source": [
        "correlation_matrix = df.corr()\n",
        "print(correlation_matrix)"
      ]
    },
    {
      "cell_type": "markdown",
      "metadata": {
        "id": "uUniRYnBdz--"
      },
      "source": [
        "Se encuentra que las variables con mayor correlacion a la variable objetivo (\"charges\") son: **\"Oldpeak\", \"Age\" y \"FastingBS\"** por lo que seran las seleccionadas para realizar pruebas con el modelo de regresion logistica."
      ]
    },
    {
      "cell_type": "markdown",
      "source": [
        "## Preprocesamiento de datos y encoding"
      ],
      "metadata": {
        "id": "2b6kj9s5ha-4"
      }
    },
    {
      "cell_type": "code",
      "source": [
        "# Dividiendo dataset en features & lables\n",
        "x = df[[\"Age\", \"Sex\",\t\"ChestPainType\", \"RestingBP\",\t\"Cholesterol\",\t\"FastingBS\",\t\"RestingECG\", \"MaxHR\",\t\"ExerciseAngina\",\t\"Oldpeak\", \"ST_Slope\"]]\n",
        "y = df[\"HeartDisease\"]\n",
        "\n",
        "# Definimos variables categoricos y numericos\n",
        "categorical_features = [\"Sex\", \"ChestPainType\", \"RestingECG\", \"ExerciseAngina\", \"ST_Slope\" ]\n",
        "numerical_features = [\"Age\",\"RestingBP\",\"Cholesterol\",\"FastingBS\",\"MaxHR\",\"Oldpeak\"]\n"
      ],
      "metadata": {
        "id": "zJvfGcfSfYjj"
      },
      "execution_count": 44,
      "outputs": []
    },
    {
      "cell_type": "code",
      "source": [
        "\n",
        "# Definimos pipeline para onehot encoding\n",
        "preprocessor = ColumnTransformer(\n",
        "    transformers=[\n",
        "        ('cat', OneHotEncoder(), categorical_features),\n",
        "    ],\n",
        "    remainder='passthrough'\n",
        ")\n",
        "\n",
        "# Aplicamos one-hot encoding\n",
        "x_encoded = preprocessor.fit_transform(x)"
      ],
      "metadata": {
        "id": "285JsWEEhf3m"
      },
      "execution_count": 45,
      "outputs": []
    },
    {
      "cell_type": "markdown",
      "metadata": {
        "id": "jYSfWDsTctEh"
      },
      "source": [
        "## Dividiendo dataset en set de entrenamiento y set de pruebas"
      ]
    },
    {
      "cell_type": "code",
      "execution_count": 46,
      "metadata": {
        "id": "EVq0vEjycx36"
      },
      "outputs": [],
      "source": [
        "# Dividimos datos de entrenamiento y en 3 subsets de pruebas\n",
        "x_train, x_test1, y_train, y_test1 = train_test_split(x_encoded, y, test_size=0.3, random_state=42)\n",
        "x_test2, x_test3, y_test2, y_test3 = train_test_split(x_test1, y_test1, test_size=0.5, random_state=42)"
      ]
    },
    {
      "cell_type": "markdown",
      "source": [
        "\n",
        "\n",
        "---\n",
        "\n"
      ],
      "metadata": {
        "id": "UKN4lDIKt757"
      }
    },
    {
      "cell_type": "markdown",
      "source": [
        "## Pipeline de entrenamiento y modificacion de hiperparametros"
      ],
      "metadata": {
        "id": "Wz4YYNxdmhwG"
      }
    },
    {
      "cell_type": "code",
      "source": [
        "# Definimos  pipeline de entrenamiento y modificamos hiperparametros\n",
        "model = Pipeline(steps=[\n",
        "    ('classifier', LogisticRegression(\n",
        "        penalty='l2', # Tipo de penalizacion\n",
        "        C=1.0, # Parmetro de regularización\n",
        "        solver='liblinear', # Solucionador\n",
        "        max_iter=10000 # Numero de iteraciones\n",
        "    ))\n",
        "])"
      ],
      "metadata": {
        "id": "VW6RFA6qmf5F"
      },
      "execution_count": 47,
      "outputs": []
    },
    {
      "cell_type": "markdown",
      "source": [
        "##Ejecucion de entrenamiento del modelo"
      ],
      "metadata": {
        "id": "9QOFUawimpfa"
      }
    },
    {
      "cell_type": "code",
      "source": [
        "model.fit(x_train, y_train)"
      ],
      "metadata": {
        "colab": {
          "base_uri": "https://localhost:8080/",
          "height": 92
        },
        "id": "h7U3FFItmo0t",
        "outputId": "8685a172-da80-4d3a-d20c-0ebbb5f72a75"
      },
      "execution_count": 48,
      "outputs": [
        {
          "output_type": "execute_result",
          "data": {
            "text/plain": [
              "Pipeline(steps=[('classifier',\n",
              "                 LogisticRegression(max_iter=10000, solver='liblinear'))])"
            ],
            "text/html": [
              "<style>#sk-container-id-2 {color: black;background-color: white;}#sk-container-id-2 pre{padding: 0;}#sk-container-id-2 div.sk-toggleable {background-color: white;}#sk-container-id-2 label.sk-toggleable__label {cursor: pointer;display: block;width: 100%;margin-bottom: 0;padding: 0.3em;box-sizing: border-box;text-align: center;}#sk-container-id-2 label.sk-toggleable__label-arrow:before {content: \"▸\";float: left;margin-right: 0.25em;color: #696969;}#sk-container-id-2 label.sk-toggleable__label-arrow:hover:before {color: black;}#sk-container-id-2 div.sk-estimator:hover label.sk-toggleable__label-arrow:before {color: black;}#sk-container-id-2 div.sk-toggleable__content {max-height: 0;max-width: 0;overflow: hidden;text-align: left;background-color: #f0f8ff;}#sk-container-id-2 div.sk-toggleable__content pre {margin: 0.2em;color: black;border-radius: 0.25em;background-color: #f0f8ff;}#sk-container-id-2 input.sk-toggleable__control:checked~div.sk-toggleable__content {max-height: 200px;max-width: 100%;overflow: auto;}#sk-container-id-2 input.sk-toggleable__control:checked~label.sk-toggleable__label-arrow:before {content: \"▾\";}#sk-container-id-2 div.sk-estimator input.sk-toggleable__control:checked~label.sk-toggleable__label {background-color: #d4ebff;}#sk-container-id-2 div.sk-label input.sk-toggleable__control:checked~label.sk-toggleable__label {background-color: #d4ebff;}#sk-container-id-2 input.sk-hidden--visually {border: 0;clip: rect(1px 1px 1px 1px);clip: rect(1px, 1px, 1px, 1px);height: 1px;margin: -1px;overflow: hidden;padding: 0;position: absolute;width: 1px;}#sk-container-id-2 div.sk-estimator {font-family: monospace;background-color: #f0f8ff;border: 1px dotted black;border-radius: 0.25em;box-sizing: border-box;margin-bottom: 0.5em;}#sk-container-id-2 div.sk-estimator:hover {background-color: #d4ebff;}#sk-container-id-2 div.sk-parallel-item::after {content: \"\";width: 100%;border-bottom: 1px solid gray;flex-grow: 1;}#sk-container-id-2 div.sk-label:hover label.sk-toggleable__label {background-color: #d4ebff;}#sk-container-id-2 div.sk-serial::before {content: \"\";position: absolute;border-left: 1px solid gray;box-sizing: border-box;top: 0;bottom: 0;left: 50%;z-index: 0;}#sk-container-id-2 div.sk-serial {display: flex;flex-direction: column;align-items: center;background-color: white;padding-right: 0.2em;padding-left: 0.2em;position: relative;}#sk-container-id-2 div.sk-item {position: relative;z-index: 1;}#sk-container-id-2 div.sk-parallel {display: flex;align-items: stretch;justify-content: center;background-color: white;position: relative;}#sk-container-id-2 div.sk-item::before, #sk-container-id-2 div.sk-parallel-item::before {content: \"\";position: absolute;border-left: 1px solid gray;box-sizing: border-box;top: 0;bottom: 0;left: 50%;z-index: -1;}#sk-container-id-2 div.sk-parallel-item {display: flex;flex-direction: column;z-index: 1;position: relative;background-color: white;}#sk-container-id-2 div.sk-parallel-item:first-child::after {align-self: flex-end;width: 50%;}#sk-container-id-2 div.sk-parallel-item:last-child::after {align-self: flex-start;width: 50%;}#sk-container-id-2 div.sk-parallel-item:only-child::after {width: 0;}#sk-container-id-2 div.sk-dashed-wrapped {border: 1px dashed gray;margin: 0 0.4em 0.5em 0.4em;box-sizing: border-box;padding-bottom: 0.4em;background-color: white;}#sk-container-id-2 div.sk-label label {font-family: monospace;font-weight: bold;display: inline-block;line-height: 1.2em;}#sk-container-id-2 div.sk-label-container {text-align: center;}#sk-container-id-2 div.sk-container {/* jupyter's `normalize.less` sets `[hidden] { display: none; }` but bootstrap.min.css set `[hidden] { display: none !important; }` so we also need the `!important` here to be able to override the default hidden behavior on the sphinx rendered scikit-learn.org. See: https://github.com/scikit-learn/scikit-learn/issues/21755 */display: inline-block !important;position: relative;}#sk-container-id-2 div.sk-text-repr-fallback {display: none;}</style><div id=\"sk-container-id-2\" class=\"sk-top-container\"><div class=\"sk-text-repr-fallback\"><pre>Pipeline(steps=[(&#x27;classifier&#x27;,\n",
              "                 LogisticRegression(max_iter=10000, solver=&#x27;liblinear&#x27;))])</pre><b>In a Jupyter environment, please rerun this cell to show the HTML representation or trust the notebook. <br />On GitHub, the HTML representation is unable to render, please try loading this page with nbviewer.org.</b></div><div class=\"sk-container\" hidden><div class=\"sk-item sk-dashed-wrapped\"><div class=\"sk-label-container\"><div class=\"sk-label sk-toggleable\"><input class=\"sk-toggleable__control sk-hidden--visually\" id=\"sk-estimator-id-3\" type=\"checkbox\" ><label for=\"sk-estimator-id-3\" class=\"sk-toggleable__label sk-toggleable__label-arrow\">Pipeline</label><div class=\"sk-toggleable__content\"><pre>Pipeline(steps=[(&#x27;classifier&#x27;,\n",
              "                 LogisticRegression(max_iter=10000, solver=&#x27;liblinear&#x27;))])</pre></div></div></div><div class=\"sk-serial\"><div class=\"sk-item\"><div class=\"sk-estimator sk-toggleable\"><input class=\"sk-toggleable__control sk-hidden--visually\" id=\"sk-estimator-id-4\" type=\"checkbox\" ><label for=\"sk-estimator-id-4\" class=\"sk-toggleable__label sk-toggleable__label-arrow\">LogisticRegression</label><div class=\"sk-toggleable__content\"><pre>LogisticRegression(max_iter=10000, solver=&#x27;liblinear&#x27;)</pre></div></div></div></div></div></div></div>"
            ]
          },
          "metadata": {},
          "execution_count": 48
        }
      ]
    },
    {
      "cell_type": "markdown",
      "source": [
        "## Generacion de predicciones y evaluacion del modelo"
      ],
      "metadata": {
        "id": "L11XVQCuoXUo"
      }
    },
    {
      "cell_type": "markdown",
      "source": [
        "### Prueba y comparacion con valores puntuales distintos a los de entrenamiento"
      ],
      "metadata": {
        "id": "PhGg0kV1CAZS"
      }
    },
    {
      "cell_type": "code",
      "source": [
        "# Seleccionamos valores puntuales del dataset diferentes al set de entrenamiento\n",
        "indices_prueba = [145, 23, 250, 622, 457]\n",
        "x_samples = x_train[indices_prueba]\n",
        "y_samples = y_train.iloc[indices_prueba].values\n",
        "\n",
        "# Usamos los datos seleccionados de prueba para hacer las predicciones y comparar\n",
        "predicted_samples = model.predict(x_samples)\n",
        "\n",
        "# Comparacion de los valores reales contra los predichos\n",
        "for i in range(len(indices_prueba)):\n",
        "    print(f\"Muestra {i + 1}:\")\n",
        "    print(f\"Valor real: {y_samples[i]}\")\n",
        "    print(f\"Valor predicho: {predicted_samples[i]}\")\n",
        "    print()"
      ],
      "metadata": {
        "colab": {
          "base_uri": "https://localhost:8080/"
        },
        "id": "o6S1qSuBB_gQ",
        "outputId": "15849816-b608-416f-b752-36ffadb53510"
      },
      "execution_count": 49,
      "outputs": [
        {
          "output_type": "stream",
          "name": "stdout",
          "text": [
            "Muestra 1:\n",
            "Valor real: 1\n",
            "Valor predicho: 1\n",
            "\n",
            "Muestra 2:\n",
            "Valor real: 0\n",
            "Valor predicho: 0\n",
            "\n",
            "Muestra 3:\n",
            "Valor real: 1\n",
            "Valor predicho: 1\n",
            "\n",
            "Muestra 4:\n",
            "Valor real: 0\n",
            "Valor predicho: 0\n",
            "\n",
            "Muestra 5:\n",
            "Valor real: 1\n",
            "Valor predicho: 1\n",
            "\n"
          ]
        }
      ]
    },
    {
      "cell_type": "markdown",
      "source": [
        "### Descripcion de metricas de evaluacion para set de entrenamiento"
      ],
      "metadata": {
        "id": "gCUndZW4_d6_"
      }
    },
    {
      "cell_type": "markdown",
      "metadata": {
        "id": "RWgjal6z_d6_"
      },
      "source": [
        "Para estimar qué tan bueno es cada clasificador, debemos generar las matrices de confusión y las correspondientes métricas:\n",
        "\n",
        "$accuracy = \\frac{VP+VN}{VP+VN+FP+FN}$\n",
        "- Accuracy (Exactitud): Calcula la proporción de predicciones correctas totales del modelo en relación con el número total de predicciones. Es útil cuando las clases están balanceadas.\n",
        "\n",
        "$precision = \\frac{VP}{VP+FP}$\n",
        "- Precision (Precisión): Evalúa la proporción de instancias positivas que el modelo clasifica correctamente en relación con todas las instancias que predijo como positivas. Es especialmente importante cuando los falsos positivos son costosos o problemáticos.\n",
        "\n",
        "$recall = \\frac{VP}{VP+FN}$\n",
        "- Recall (Recuerdo o Sensibilidad): Mide la proporción de positivos reales que el modelo identifica correctamente en relación con todos los positivos reales presentes en los datos.\n",
        "\n",
        "\n",
        "$F1 = \\frac{2\\cdot precision \\cdot recall}{precision+recall}$\n",
        "- F1 Score: Es una métrica que combina precisión y recall para proporcionar una medida equilibrada del rendimiento del modelo, especialmente cuando hay un desequilibrio entre las clases.\n",
        "\n",
        "\n"
      ]
    },
    {
      "cell_type": "markdown",
      "source": [
        "### Evaluacion de modelo con subset de entrenamiento"
      ],
      "metadata": {
        "id": "-oeFXzHy_d6_"
      }
    },
    {
      "cell_type": "code",
      "source": [
        "# Predicciones con\n",
        "y_pred1 = model.predict(x_train)"
      ],
      "metadata": {
        "id": "S5ayHppP_d6_"
      },
      "execution_count": 50,
      "outputs": []
    },
    {
      "cell_type": "code",
      "source": [
        "# Matriz de confusión\n",
        "confusion = confusion_matrix(y_train, y_pred1)\n",
        "print(\"Matriz de Confusión prueba 1:\")\n",
        "print(confusion)"
      ],
      "metadata": {
        "colab": {
          "base_uri": "https://localhost:8080/"
        },
        "outputId": "263baac3-3987-4efc-a772-df5300f40ed7",
        "id": "muUty6hx_d7A"
      },
      "execution_count": 51,
      "outputs": [
        {
          "output_type": "stream",
          "name": "stdout",
          "text": [
            "Matriz de Confusión prueba 1:\n",
            "[[247  51]\n",
            " [ 38 306]]\n"
          ]
        }
      ]
    },
    {
      "cell_type": "code",
      "source": [
        "# Calculo de accuracy\n",
        "accuracy = accuracy_score(y_train, y_pred1)\n",
        "print(\"Accuracy prueba 1:\", accuracy)"
      ],
      "metadata": {
        "colab": {
          "base_uri": "https://localhost:8080/"
        },
        "outputId": "165a9121-0ccc-4159-df9a-61afb18b5372",
        "id": "qmXp3ta8_d7A"
      },
      "execution_count": 52,
      "outputs": [
        {
          "output_type": "stream",
          "name": "stdout",
          "text": [
            "Accuracy prueba 1: 0.8613707165109035\n"
          ]
        }
      ]
    },
    {
      "cell_type": "code",
      "source": [
        "# Reporte de métricas (precision, recall, f1-score, support)\n",
        "report = classification_report(y_train, y_pred1)\n",
        "print(\"Reporte de Clasificación Prueba 1:\")\n",
        "print(report)"
      ],
      "metadata": {
        "colab": {
          "base_uri": "https://localhost:8080/"
        },
        "outputId": "c9ac1f10-c914-44b0-98e8-1261b201095f",
        "id": "l36CL43I_d7A"
      },
      "execution_count": 53,
      "outputs": [
        {
          "output_type": "stream",
          "name": "stdout",
          "text": [
            "Reporte de Clasificación Prueba 1:\n",
            "              precision    recall  f1-score   support\n",
            "\n",
            "           0       0.87      0.83      0.85       298\n",
            "           1       0.86      0.89      0.87       344\n",
            "\n",
            "    accuracy                           0.86       642\n",
            "   macro avg       0.86      0.86      0.86       642\n",
            "weighted avg       0.86      0.86      0.86       642\n",
            "\n"
          ]
        }
      ]
    },
    {
      "cell_type": "markdown",
      "source": [
        "### Descripcion de metricas de evaluacion para set de prueba"
      ],
      "metadata": {
        "id": "YvQnNQcSvfer"
      }
    },
    {
      "cell_type": "markdown",
      "metadata": {
        "id": "QPH-AV_gkRyQ"
      },
      "source": [
        "Para estimar qué tan bueno es cada clasificador, debemos generar las matrices de confusión y las correspondientes métricas:\n",
        "\n",
        "$accuracy = \\frac{VP+VN}{VP+VN+FP+FN}$\n",
        "- Accuracy (Exactitud): Calcula la proporción de predicciones correctas totales del modelo en relación con el número total de predicciones. Es útil cuando las clases están balanceadas.\n",
        "\n",
        "$precision = \\frac{VP}{VP+FP}$\n",
        "- Precision (Precisión): Evalúa la proporción de instancias positivas que el modelo clasifica correctamente en relación con todas las instancias que predijo como positivas. Es especialmente importante cuando los falsos positivos son costosos o problemáticos.\n",
        "\n",
        "$recall = \\frac{VP}{VP+FN}$\n",
        "- Recall (Recuerdo o Sensibilidad): Mide la proporción de positivos reales que el modelo identifica correctamente en relación con todos los positivos reales presentes en los datos.\n",
        "\n",
        "\n",
        "$F1 = \\frac{2\\cdot precision \\cdot recall}{precision+recall}$\n",
        "- F1 Score: Es una métrica que combina precisión y recall para proporcionar una medida equilibrada del rendimiento del modelo, especialmente cuando hay un desequilibrio entre las clases.\n",
        "\n",
        "\n"
      ]
    },
    {
      "cell_type": "markdown",
      "source": [
        "### Evaluacion de modelo con subset de prueba"
      ],
      "metadata": {
        "id": "L7rdbWSGvsWx"
      }
    },
    {
      "cell_type": "code",
      "source": [
        "# Predicciones con\n",
        "y_pred1 = model.predict(x_test1)"
      ],
      "metadata": {
        "id": "gTBMvUHsofq5"
      },
      "execution_count": 54,
      "outputs": []
    },
    {
      "cell_type": "code",
      "source": [
        "# Matriz de confusión\n",
        "confusion = confusion_matrix(y_test1, y_pred1)\n",
        "print(\"Matriz de Confusión prueba 1:\")\n",
        "print(confusion)"
      ],
      "metadata": {
        "colab": {
          "base_uri": "https://localhost:8080/"
        },
        "id": "lPAQDpCpoWtF",
        "outputId": "38195f7e-286e-4eae-d7a6-7ad66ef377ad"
      },
      "execution_count": 55,
      "outputs": [
        {
          "output_type": "stream",
          "name": "stdout",
          "text": [
            "Matriz de Confusión prueba 1:\n",
            "[[100  12]\n",
            " [ 20 144]]\n"
          ]
        }
      ]
    },
    {
      "cell_type": "code",
      "source": [
        "# Calculo de accuracy\n",
        "accuracy = accuracy_score(y_test1, y_pred1)\n",
        "print(\"Accuracy prueba 1:\", accuracy)"
      ],
      "metadata": {
        "colab": {
          "base_uri": "https://localhost:8080/"
        },
        "id": "QAsnA7KPo6k7",
        "outputId": "534cbee5-f4f2-4576-c374-28037bdd4f78"
      },
      "execution_count": 56,
      "outputs": [
        {
          "output_type": "stream",
          "name": "stdout",
          "text": [
            "Accuracy prueba 1: 0.8840579710144928\n"
          ]
        }
      ]
    },
    {
      "cell_type": "code",
      "source": [
        "# Reporte de métricas (precision, recall, f1-score, support)\n",
        "report = classification_report(y_test1, y_pred1)\n",
        "print(\"Reporte de Clasificación Prueba 1:\")\n",
        "print(report)"
      ],
      "metadata": {
        "colab": {
          "base_uri": "https://localhost:8080/"
        },
        "id": "ra_B8SD2oqJy",
        "outputId": "013b5391-87d1-4e09-cf8e-745197b765e1"
      },
      "execution_count": 57,
      "outputs": [
        {
          "output_type": "stream",
          "name": "stdout",
          "text": [
            "Reporte de Clasificación Prueba 1:\n",
            "              precision    recall  f1-score   support\n",
            "\n",
            "           0       0.83      0.89      0.86       112\n",
            "           1       0.92      0.88      0.90       164\n",
            "\n",
            "    accuracy                           0.88       276\n",
            "   macro avg       0.88      0.89      0.88       276\n",
            "weighted avg       0.89      0.88      0.88       276\n",
            "\n"
          ]
        }
      ]
    },
    {
      "cell_type": "markdown",
      "source": [
        "### Analisis de resultados de las metricas de evaluacion\n",
        " Despues de calcular los valores de la matriz de confusión para cada una de las implementaciones del modelo y el posterior calculo de las metricas de evaluacion en base a estas se encontró lo siguiente:\n",
        " 1. Al haccer pruebas tanto con el set de pruebas como con el de entrenamiento se encontró que el desempeño de ambos no indica ni overfitting ni underfitting al tener niveles de error similar, lo cual indica un desempeño adecuado del modelo.\n",
        "\n",
        " 2. Al hacer las pruebas finales con el set de pruebas, se obtuvieron las siguientes metricas de evaluacion cuyo impacto en el desempeño del modelo se describen a continuación: (en el reporte generado por sklearn se toma en cuenta la seccion de \"wighted avg\" dado el contexto del problema a resolver donde la precision del resultado en la clasificacion es muy importante):\n",
        "\n",
        "  - **Accuracy:** 0.88, lo cual nos indican un buen funcionamiento correcto del modelo a primera instancia.\n",
        "  - **Precision:**  0.89, lo que nos indica una buen nivel de prediccion en los valores positivos (1's) en comparacion a todas las muestras positivas (verdaderas y falsas).\n",
        "  - **Recall:** 0.88, lo que nos indica una buen nivel de prediccion en los valores positivos verdaderos en comparacion al total de muestras positivas verdaderas (1's).\n",
        "  - **F1-score:** 0.88, lo que nos indica un desempeño adecuado a nivel general a ser la medida armonica entre precision y recall."
      ],
      "metadata": {
        "id": "Xduf3ONLTfzU"
      }
    }
  ],
  "metadata": {
    "colab": {
      "provenance": []
    },
    "kernelspec": {
      "display_name": "Python 3",
      "name": "python3"
    },
    "language_info": {
      "name": "python"
    }
  },
  "nbformat": 4,
  "nbformat_minor": 0
}