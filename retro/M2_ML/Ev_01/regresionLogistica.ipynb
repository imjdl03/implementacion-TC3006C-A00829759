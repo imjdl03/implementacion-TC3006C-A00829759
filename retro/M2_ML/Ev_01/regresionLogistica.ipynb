{
  "cells": [
    {
      "cell_type": "markdown",
      "metadata": {
        "id": "_7cNt-avDKMn"
      },
      "source": [
        "# Módulo 2: Implementación de una técnica de aprendizaje máquina sin el uso de un framework\n"
      ]
    },
    {
      "cell_type": "markdown",
      "metadata": {
        "id": "lGL4JNvKntdw"
      },
      "source": [
        "Jorge Eduardo de León Reyna - A00829759"
      ]
    },
    {
      "cell_type": "markdown",
      "metadata": {
        "id": "qSKHb03Hb7YI"
      },
      "source": [
        "## Carga de librerias"
      ]
    },
    {
      "cell_type": "code",
      "execution_count": null,
      "metadata": {
        "id": "-jjLyTOob6pa"
      },
      "outputs": [],
      "source": [
        "import pandas as pd\n",
        "from sklearn.model_selection import train_test_split\n",
        "import math"
      ]
    },
    {
      "cell_type": "markdown",
      "metadata": {
        "id": "TVz7sji4LUCv"
      },
      "source": [
        "## Descripcion del dataset utilizado"
      ]
    },
    {
      "cell_type": "markdown",
      "metadata": {
        "id": "uaVenFpvLYTt"
      },
      "source": [
        "- **Dataset utilizado:** Heart Failure Prediction\n",
        "- **Descripción y contexto del problema a resolver:** Las enfermedades cardiovasculares son la principal causa de muerte en todo el mundo, cobrando cerca de 17.9 millones de vidas al año y representando el 31% de todas las muertes. La mayoría de estas muertes son por ataques cardíacos y accidentes cerebrovasculares, y muchas ocurren prematuramente en personas menores de 70 años. La insuficiencia cardíaca también es común debido a estas enfermedades. Un conjunto de datos con 11 características puede ayudar a predecir posibles problemas cardíacos. Las personas con enfermedades cardíacas o alto riesgo cardiovascular, debido a factores como hipertensión o diabetes, necesitan detección temprana y manejo, donde un modelo de aprendizaje automático puede ser muy útil.\n",
        "- **Atributos o campos:**\n",
        "  - Age: edad del paciente\n",
        "      - años\n",
        "  - Sex: sexo del paciente\n",
        "      - M: Male, F: Female\n",
        "  - ChestPainType: tipo de dolor de pecho\n",
        "      - TA: Typical Angina, ATA: Atypical Angina, NAP: Non-Anginal Pain, ASY: Asymptomatic\n",
        "  - RestingBP: presión arterial en reposo\n",
        "      - mm Hg\n",
        "  - Cholesterol: colesterol\n",
        "      - mm/dl\n",
        "  - FastingBS: azucar en la sangre en ayunas\n",
        "      - 1: si FastingBS > 120 mg/dl, 0: otro\n",
        "  - RestingECG: resultados de electrocardiograma en reposo\n",
        "      - Normal: Normal, ST: Anomalía de la onda ST-T (inversiones de onda T y/o elevación o depresión del segmento ST > 0.05 mV), LVH: mostrando hipertrofia ventricular izquierda probable o definitiva según los criterios de Estes.\n",
        "  - MaxHR: frecuencia cardíaca máxima alcanzada\n",
        "      - Valor numero entre 60 y 202\n",
        "  - ExerciseAngina: angina inducida por el ejercicio\n",
        "      - Y: Yes, N: No\n",
        "  - Oldpeak: Descenso antiguo = ST\n",
        "      - Valor numerico\n",
        "  - ST_Slope: La pendiente del segmento ST durante el ejercicio máximo\n",
        "      - Up: upsloping, Flat: flat, Down: downsloping\n",
        "  - HeartDisease: salida\n",
        "      - 1: heart disease, 0: Normal\n",
        "- **Enlace:** https://www.kaggle.com/datasets/fedesoriano/heart-failure-prediction?resource=download\n",
        "- **Descripcion del problema:** En este dataset se busca hacer un modelo de clasificación, donde se tienen dos clases posibles para predecir: \"heart disease(1)\" y \"normal(1)\".\n",
        "\n",
        "\n",
        "\n",
        "\n",
        "\n",
        "\n"
      ]
    },
    {
      "cell_type": "markdown",
      "metadata": {
        "id": "t3TrqLifD8le"
      },
      "source": [
        "## Cargando Dataset"
      ]
    },
    {
      "cell_type": "code",
      "execution_count": null,
      "metadata": {
        "colab": {
          "base_uri": "https://localhost:8080/",
          "height": 226
        },
        "id": "E2OjXeLKbzFD",
        "outputId": "dec0bc13-9aee-4ebf-b541-0338b698e446"
      },
      "outputs": [
        {
          "data": {
            "text/html": [
              "\n",
              "  <div id=\"df-4fdd08f7-0277-4c2c-8a97-85eb2b00b765\" class=\"colab-df-container\">\n",
              "    <div>\n",
              "<style scoped>\n",
              "    .dataframe tbody tr th:only-of-type {\n",
              "        vertical-align: middle;\n",
              "    }\n",
              "\n",
              "    .dataframe tbody tr th {\n",
              "        vertical-align: top;\n",
              "    }\n",
              "\n",
              "    .dataframe thead th {\n",
              "        text-align: right;\n",
              "    }\n",
              "</style>\n",
              "<table border=\"1\" class=\"dataframe\">\n",
              "  <thead>\n",
              "    <tr style=\"text-align: right;\">\n",
              "      <th></th>\n",
              "      <th>Age</th>\n",
              "      <th>Sex</th>\n",
              "      <th>ChestPainType</th>\n",
              "      <th>RestingBP</th>\n",
              "      <th>Cholesterol</th>\n",
              "      <th>FastingBS</th>\n",
              "      <th>RestingECG</th>\n",
              "      <th>MaxHR</th>\n",
              "      <th>ExerciseAngina</th>\n",
              "      <th>Oldpeak</th>\n",
              "      <th>ST_Slope</th>\n",
              "      <th>HeartDisease</th>\n",
              "    </tr>\n",
              "  </thead>\n",
              "  <tbody>\n",
              "    <tr>\n",
              "      <th>0</th>\n",
              "      <td>40</td>\n",
              "      <td>M</td>\n",
              "      <td>ATA</td>\n",
              "      <td>140</td>\n",
              "      <td>289</td>\n",
              "      <td>0</td>\n",
              "      <td>Normal</td>\n",
              "      <td>172</td>\n",
              "      <td>N</td>\n",
              "      <td>0.0</td>\n",
              "      <td>Up</td>\n",
              "      <td>0</td>\n",
              "    </tr>\n",
              "    <tr>\n",
              "      <th>1</th>\n",
              "      <td>49</td>\n",
              "      <td>F</td>\n",
              "      <td>NAP</td>\n",
              "      <td>160</td>\n",
              "      <td>180</td>\n",
              "      <td>0</td>\n",
              "      <td>Normal</td>\n",
              "      <td>156</td>\n",
              "      <td>N</td>\n",
              "      <td>1.0</td>\n",
              "      <td>Flat</td>\n",
              "      <td>1</td>\n",
              "    </tr>\n",
              "    <tr>\n",
              "      <th>2</th>\n",
              "      <td>37</td>\n",
              "      <td>M</td>\n",
              "      <td>ATA</td>\n",
              "      <td>130</td>\n",
              "      <td>283</td>\n",
              "      <td>0</td>\n",
              "      <td>ST</td>\n",
              "      <td>98</td>\n",
              "      <td>N</td>\n",
              "      <td>0.0</td>\n",
              "      <td>Up</td>\n",
              "      <td>0</td>\n",
              "    </tr>\n",
              "    <tr>\n",
              "      <th>3</th>\n",
              "      <td>48</td>\n",
              "      <td>F</td>\n",
              "      <td>ASY</td>\n",
              "      <td>138</td>\n",
              "      <td>214</td>\n",
              "      <td>0</td>\n",
              "      <td>Normal</td>\n",
              "      <td>108</td>\n",
              "      <td>Y</td>\n",
              "      <td>1.5</td>\n",
              "      <td>Flat</td>\n",
              "      <td>1</td>\n",
              "    </tr>\n",
              "    <tr>\n",
              "      <th>4</th>\n",
              "      <td>54</td>\n",
              "      <td>M</td>\n",
              "      <td>NAP</td>\n",
              "      <td>150</td>\n",
              "      <td>195</td>\n",
              "      <td>0</td>\n",
              "      <td>Normal</td>\n",
              "      <td>122</td>\n",
              "      <td>N</td>\n",
              "      <td>0.0</td>\n",
              "      <td>Up</td>\n",
              "      <td>0</td>\n",
              "    </tr>\n",
              "  </tbody>\n",
              "</table>\n",
              "</div>\n",
              "    <div class=\"colab-df-buttons\">\n",
              "\n",
              "  <div class=\"colab-df-container\">\n",
              "    <button class=\"colab-df-convert\" onclick=\"convertToInteractive('df-4fdd08f7-0277-4c2c-8a97-85eb2b00b765')\"\n",
              "            title=\"Convert this dataframe to an interactive table.\"\n",
              "            style=\"display:none;\">\n",
              "\n",
              "  <svg xmlns=\"http://www.w3.org/2000/svg\" height=\"24px\" viewBox=\"0 -960 960 960\">\n",
              "    <path d=\"M120-120v-720h720v720H120Zm60-500h600v-160H180v160Zm220 220h160v-160H400v160Zm0 220h160v-160H400v160ZM180-400h160v-160H180v160Zm440 0h160v-160H620v160ZM180-180h160v-160H180v160Zm440 0h160v-160H620v160Z\"/>\n",
              "  </svg>\n",
              "    </button>\n",
              "\n",
              "  <style>\n",
              "    .colab-df-container {\n",
              "      display:flex;\n",
              "      gap: 12px;\n",
              "    }\n",
              "\n",
              "    .colab-df-convert {\n",
              "      background-color: #E8F0FE;\n",
              "      border: none;\n",
              "      border-radius: 50%;\n",
              "      cursor: pointer;\n",
              "      display: none;\n",
              "      fill: #1967D2;\n",
              "      height: 32px;\n",
              "      padding: 0 0 0 0;\n",
              "      width: 32px;\n",
              "    }\n",
              "\n",
              "    .colab-df-convert:hover {\n",
              "      background-color: #E2EBFA;\n",
              "      box-shadow: 0px 1px 2px rgba(60, 64, 67, 0.3), 0px 1px 3px 1px rgba(60, 64, 67, 0.15);\n",
              "      fill: #174EA6;\n",
              "    }\n",
              "\n",
              "    .colab-df-buttons div {\n",
              "      margin-bottom: 4px;\n",
              "    }\n",
              "\n",
              "    [theme=dark] .colab-df-convert {\n",
              "      background-color: #3B4455;\n",
              "      fill: #D2E3FC;\n",
              "    }\n",
              "\n",
              "    [theme=dark] .colab-df-convert:hover {\n",
              "      background-color: #434B5C;\n",
              "      box-shadow: 0px 1px 3px 1px rgba(0, 0, 0, 0.15);\n",
              "      filter: drop-shadow(0px 1px 2px rgba(0, 0, 0, 0.3));\n",
              "      fill: #FFFFFF;\n",
              "    }\n",
              "  </style>\n",
              "\n",
              "    <script>\n",
              "      const buttonEl =\n",
              "        document.querySelector('#df-4fdd08f7-0277-4c2c-8a97-85eb2b00b765 button.colab-df-convert');\n",
              "      buttonEl.style.display =\n",
              "        google.colab.kernel.accessAllowed ? 'block' : 'none';\n",
              "\n",
              "      async function convertToInteractive(key) {\n",
              "        const element = document.querySelector('#df-4fdd08f7-0277-4c2c-8a97-85eb2b00b765');\n",
              "        const dataTable =\n",
              "          await google.colab.kernel.invokeFunction('convertToInteractive',\n",
              "                                                    [key], {});\n",
              "        if (!dataTable) return;\n",
              "\n",
              "        const docLinkHtml = 'Like what you see? Visit the ' +\n",
              "          '<a target=\"_blank\" href=https://colab.research.google.com/notebooks/data_table.ipynb>data table notebook</a>'\n",
              "          + ' to learn more about interactive tables.';\n",
              "        element.innerHTML = '';\n",
              "        dataTable['output_type'] = 'display_data';\n",
              "        await google.colab.output.renderOutput(dataTable, element);\n",
              "        const docLink = document.createElement('div');\n",
              "        docLink.innerHTML = docLinkHtml;\n",
              "        element.appendChild(docLink);\n",
              "      }\n",
              "    </script>\n",
              "  </div>\n",
              "\n",
              "\n",
              "<div id=\"df-16003e2c-7325-4bc0-9ba9-97d586a13f18\">\n",
              "  <button class=\"colab-df-quickchart\" onclick=\"quickchart('df-16003e2c-7325-4bc0-9ba9-97d586a13f18')\"\n",
              "            title=\"Suggest charts.\"\n",
              "            style=\"display:none;\">\n",
              "\n",
              "<svg xmlns=\"http://www.w3.org/2000/svg\" height=\"24px\"viewBox=\"0 0 24 24\"\n",
              "     width=\"24px\">\n",
              "    <g>\n",
              "        <path d=\"M19 3H5c-1.1 0-2 .9-2 2v14c0 1.1.9 2 2 2h14c1.1 0 2-.9 2-2V5c0-1.1-.9-2-2-2zM9 17H7v-7h2v7zm4 0h-2V7h2v10zm4 0h-2v-4h2v4z\"/>\n",
              "    </g>\n",
              "</svg>\n",
              "  </button>\n",
              "\n",
              "<style>\n",
              "  .colab-df-quickchart {\n",
              "    background-color: #E8F0FE;\n",
              "    border: none;\n",
              "    border-radius: 50%;\n",
              "    cursor: pointer;\n",
              "    display: none;\n",
              "    fill: #1967D2;\n",
              "    height: 32px;\n",
              "    padding: 0 0 0 0;\n",
              "    width: 32px;\n",
              "  }\n",
              "\n",
              "  .colab-df-quickchart:hover {\n",
              "    background-color: #E2EBFA;\n",
              "    box-shadow: 0px 1px 2px rgba(60, 64, 67, 0.3), 0px 1px 3px 1px rgba(60, 64, 67, 0.15);\n",
              "    fill: #174EA6;\n",
              "  }\n",
              "\n",
              "  [theme=dark] .colab-df-quickchart {\n",
              "    background-color: #3B4455;\n",
              "    fill: #D2E3FC;\n",
              "  }\n",
              "\n",
              "  [theme=dark] .colab-df-quickchart:hover {\n",
              "    background-color: #434B5C;\n",
              "    box-shadow: 0px 1px 3px 1px rgba(0, 0, 0, 0.15);\n",
              "    filter: drop-shadow(0px 1px 2px rgba(0, 0, 0, 0.3));\n",
              "    fill: #FFFFFF;\n",
              "  }\n",
              "</style>\n",
              "\n",
              "  <script>\n",
              "    async function quickchart(key) {\n",
              "      const charts = await google.colab.kernel.invokeFunction(\n",
              "          'suggestCharts', [key], {});\n",
              "    }\n",
              "    (() => {\n",
              "      let quickchartButtonEl =\n",
              "        document.querySelector('#df-16003e2c-7325-4bc0-9ba9-97d586a13f18 button');\n",
              "      quickchartButtonEl.style.display =\n",
              "        google.colab.kernel.accessAllowed ? 'block' : 'none';\n",
              "    })();\n",
              "  </script>\n",
              "</div>\n",
              "    </div>\n",
              "  </div>\n"
            ],
            "text/plain": [
              "   Age Sex ChestPainType  RestingBP  Cholesterol  FastingBS RestingECG  MaxHR  \\\n",
              "0   40   M           ATA        140          289          0     Normal    172   \n",
              "1   49   F           NAP        160          180          0     Normal    156   \n",
              "2   37   M           ATA        130          283          0         ST     98   \n",
              "3   48   F           ASY        138          214          0     Normal    108   \n",
              "4   54   M           NAP        150          195          0     Normal    122   \n",
              "\n",
              "  ExerciseAngina  Oldpeak ST_Slope  HeartDisease  \n",
              "0              N      0.0       Up             0  \n",
              "1              N      1.0     Flat             1  \n",
              "2              N      0.0       Up             0  \n",
              "3              Y      1.5     Flat             1  \n",
              "4              N      0.0       Up             0  "
            ]
          },
          "execution_count": 5,
          "metadata": {},
          "output_type": "execute_result"
        }
      ],
      "source": [
        "df = pd.read_csv(\"/content/heart.csv\")\n",
        "df.head()"
      ]
    },
    {
      "cell_type": "markdown",
      "metadata": {
        "id": "6HAtfQ8igvf4"
      },
      "source": [
        "#### Limpieza de datos inicial"
      ]
    },
    {
      "cell_type": "code",
      "execution_count": null,
      "metadata": {
        "id": "jFkpK5T4gxnJ"
      },
      "outputs": [],
      "source": [
        "df = df.dropna()\n",
        "\n",
        "df = df.drop_duplicates()\n",
        "\n",
        "df = df.reset_index(drop=True)"
      ]
    },
    {
      "cell_type": "markdown",
      "metadata": {
        "id": "wnSMIoQodgZe"
      },
      "source": [
        "## Matriz de correlación\n",
        "Se busca encontrar las variables con mayor influencia sobre la variable objetivo (\"charges\") para utilizar las mismas en las pruebas del modelo."
      ]
    },
    {
      "cell_type": "code",
      "execution_count": null,
      "metadata": {
        "colab": {
          "base_uri": "https://localhost:8080/"
        },
        "id": "Ig_7fikydZwd",
        "outputId": "6a484de4-a030-41b7-992c-c4036e6dce0a"
      },
      "outputs": [
        {
          "name": "stdout",
          "output_type": "stream",
          "text": [
            "                   Age  RestingBP  Cholesterol  FastingBS     MaxHR   Oldpeak  \\\n",
            "Age           1.000000   0.254399    -0.095282   0.198039 -0.382045  0.258612   \n",
            "RestingBP     0.254399   1.000000     0.100893   0.070193 -0.112135  0.164803   \n",
            "Cholesterol  -0.095282   0.100893     1.000000  -0.260974  0.235792  0.050148   \n",
            "FastingBS     0.198039   0.070193    -0.260974   1.000000 -0.131438  0.052698   \n",
            "MaxHR        -0.382045  -0.112135     0.235792  -0.131438  1.000000 -0.160691   \n",
            "Oldpeak       0.258612   0.164803     0.050148   0.052698 -0.160691  1.000000   \n",
            "HeartDisease  0.282039   0.107589    -0.232741   0.267291 -0.400421  0.403951   \n",
            "\n",
            "              HeartDisease  \n",
            "Age               0.282039  \n",
            "RestingBP         0.107589  \n",
            "Cholesterol      -0.232741  \n",
            "FastingBS         0.267291  \n",
            "MaxHR            -0.400421  \n",
            "Oldpeak           0.403951  \n",
            "HeartDisease      1.000000  \n"
          ]
        },
        {
          "name": "stderr",
          "output_type": "stream",
          "text": [
            "<ipython-input-7-becb50483c66>:1: FutureWarning: The default value of numeric_only in DataFrame.corr is deprecated. In a future version, it will default to False. Select only valid columns or specify the value of numeric_only to silence this warning.\n",
            "  correlation_matrix = df.corr()\n"
          ]
        }
      ],
      "source": [
        "correlation_matrix = df.corr()\n",
        "print(correlation_matrix)"
      ]
    },
    {
      "cell_type": "markdown",
      "metadata": {
        "id": "uUniRYnBdz--"
      },
      "source": [
        "Se encuentra que las variables con mayor correlacion a la variable objetivo (\"charges\") son: **\"Oldpeak\", \"Age\" y \"FastingBS\"** por lo que seran las seleccionadas para realizar pruebas con el modelo de regresion logistica."
      ]
    },
    {
      "cell_type": "code",
      "execution_count": null,
      "metadata": {
        "colab": {
          "base_uri": "https://localhost:8080/"
        },
        "id": "k9XoRgmkcOOa",
        "outputId": "472177be-d2fc-4c54-952d-e94e82330e38"
      },
      "outputs": [
        {
          "data": {
            "text/plain": [
              "918"
            ]
          },
          "execution_count": 8,
          "metadata": {},
          "output_type": "execute_result"
        }
      ],
      "source": [
        "len(df)"
      ]
    },
    {
      "cell_type": "markdown",
      "metadata": {
        "id": "jYSfWDsTctEh"
      },
      "source": [
        "## Dividiendo dataset en set de entrenamiento y set de pruebas"
      ]
    },
    {
      "cell_type": "code",
      "execution_count": null,
      "metadata": {
        "id": "EVq0vEjycx36"
      },
      "outputs": [],
      "source": [
        "train, test = train_test_split(df, test_size=0.3, random_state=42)"
      ]
    },
    {
      "cell_type": "markdown",
      "metadata": {
        "id": "fNvYDjLEf09p"
      },
      "source": [
        "## Definiendo hiperparametros iniciales"
      ]
    },
    {
      "cell_type": "code",
      "execution_count": null,
      "metadata": {
        "id": "LTZXbaBREZ1i"
      },
      "outputs": [],
      "source": [
        "# Crear lista con los hiper-parámetros iniciales (thetas)\n",
        "theta = [0.05, 0.01]\n",
        "# Cargar el valor del learning rate (alpha)\n",
        "alpha = 0.01"
      ]
    },
    {
      "cell_type": "markdown",
      "metadata": {
        "id": "el1sbJWygBge"
      },
      "source": [
        "## Definiendo funcion de hipotesis y parametros para la misma"
      ]
    },
    {
      "cell_type": "code",
      "execution_count": null,
      "metadata": {
        "id": "Eus7l9R5FEWh"
      },
      "outputs": [],
      "source": [
        "# Crear función lambda para la función de hipótesis\n",
        "h = lambda x, theta: 1 / (1 + math.exp(-1 * (theta[0] + theta[1] * x)))\n",
        "\n",
        "# Calcular el total de muestras a partir de los datos (n)\n",
        "n = len(train)\n",
        "\n",
        "# Definir total de iteraciones a ejecutar\n",
        "iteraciones = 1000"
      ]
    },
    {
      "cell_type": "markdown",
      "metadata": {
        "id": "zPEuQ5VwD1LS"
      },
      "source": [
        "## Iteraciones del modelo\n",
        "En cada iteración debemos calcular el valor de la derivada de la función de costo, que se obtiene a partir de los datos estimados, $h_\\theta(x_i)$, y reales, $y_i$ (recuerde que los estimados se obtienen con la función de hipótesis de la regresión logística):\n",
        "\n",
        "$\\frac{∂J_{θ}}{∂θ_0} = \\frac{1}{n}\\sum_{i=1}^{n}(h_θ(x_i)-y_i)$\n",
        "\n",
        "$\\frac{∂J_{θ}}{∂θ_1} = \\frac{1}{n}\\sum_{i=1}^{n}(h_θ(x_i)-y_i)x_i$\n",
        "\n",
        "Además, debemos actualizar los valores de los hiper-parámetros, recordando que $\\theta_j=\\theta_j-\\alpha \\frac{∂J_{θ}}{∂θ_j}$:"
      ]
    },
    {
      "cell_type": "markdown",
      "metadata": {
        "id": "rXijf6TTgPSM"
      },
      "source": [
        "## Definicion de funcion para el modelo de regresion logistica"
      ]
    },
    {
      "cell_type": "code",
      "execution_count": null,
      "metadata": {
        "id": "yHcybZTvDFIc"
      },
      "outputs": [],
      "source": [
        "# Seleccionar la muestra a utilizar (Attendance o Homework)\n",
        "def gradiente_descendiente(x_vector, y_vector, iteraciones, theta, alpha):\n",
        "  #reiniciamos valores de theta\n",
        "  theta_aux = theta\n",
        "  alpha = 0.01\n",
        "\n",
        "  # Implementar ciclo para iteraciones\n",
        "  for i in range(0, iteraciones):\n",
        "    # Crear acumuladores\n",
        "    delta1_aux = 0\n",
        "    delta2_aux = 0\n",
        "\n",
        "    # Calcular delta para theta0 y para cada muestra\n",
        "    for j in range(0, n):\n",
        "      current_cost_function_value = h(x_vector.iloc[j], theta_aux)\n",
        "\n",
        "      # Calcular delta para theta1 y para cada muestra\n",
        "      delta1_aux += current_cost_function_value - y_vector.iloc[j]\n",
        "\n",
        "      # Calcular delta para theta2 y para cada muestra\n",
        "      delta2_aux += (current_cost_function_value - y_vector.iloc[j]) * x_vector.iloc[j]\n",
        "\n",
        "    # Calcular sumatorias y promedio\n",
        "    theta_aux[0] -= (alpha * (delta1_aux / n))\n",
        "    theta_aux[1] -= (alpha * (delta2_aux / n))\n",
        "\n",
        "  # Imprimir theta actualizado\n",
        "  print(\"theta final 1 => \", theta_aux[0])\n",
        "  print(\"theta final 2 => \", theta_aux[1])\n",
        "\n",
        "  return theta_aux"
      ]
    },
    {
      "cell_type": "markdown",
      "metadata": {
        "id": "39HAA4m_22-V"
      },
      "source": [
        "### Modelo 1 (prueba con variable \"OldPeak\")"
      ]
    },
    {
      "cell_type": "code",
      "execution_count": null,
      "metadata": {
        "colab": {
          "base_uri": "https://localhost:8080/"
        },
        "id": "To-Q0tw32Wcy",
        "outputId": "ca1d1f9c-4e9e-4264-bec8-08cefbde5a05"
      },
      "outputs": [
        {
          "name": "stdout",
          "output_type": "stream",
          "text": [
            "theta final 1 =>  -0.6800492768937707\n",
            "theta final 2 =>  1.0290949998346437\n"
          ]
        }
      ],
      "source": [
        "theta_model1 = gradiente_descendiente(train['Oldpeak'], train['HeartDisease'], 10000, [0,0], 0.001)"
      ]
    },
    {
      "cell_type": "markdown",
      "metadata": {
        "id": "vd4vljVcD1Pq"
      },
      "source": [
        "### Modelo 2 (prueba con variable \"Age\")"
      ]
    },
    {
      "cell_type": "code",
      "execution_count": null,
      "metadata": {
        "colab": {
          "base_uri": "https://localhost:8080/"
        },
        "id": "xYrGExy5UAI1",
        "outputId": "e6fc62f1-9496-40a8-e0b0-6bd90fb081c2"
      },
      "outputs": [
        {
          "name": "stdout",
          "output_type": "stream",
          "text": [
            "theta final 1 =>  -2.58170503764437\n",
            "theta final 2 =>  0.2213861625528999\n"
          ]
        }
      ],
      "source": [
        "theta_model2 = gradiente_descendiente(train['Age'], train['HeartDisease'], 10000, [.1,.1], 0.001)"
      ]
    },
    {
      "cell_type": "markdown",
      "metadata": {
        "id": "tmqq963-3Hxp"
      },
      "source": [
        "### Modelo 3 (prueba con variable \"FastingBS\")"
      ]
    },
    {
      "cell_type": "code",
      "execution_count": null,
      "metadata": {
        "colab": {
          "base_uri": "https://localhost:8080/"
        },
        "id": "ltlHCH153Hxq",
        "outputId": "a913a663-10ac-4f08-fc23-e8a22fb0cc06"
      },
      "outputs": [
        {
          "name": "stdout",
          "output_type": "stream",
          "text": [
            "theta final 1 =>  -0.1135828854804322\n",
            "theta final 2 =>  1.3192435662564228\n"
          ]
        }
      ],
      "source": [
        "theta_model3 = gradiente_descendiente(train['FastingBS'], train['HeartDisease'], 10000, [0,0], 0.001)"
      ]
    },
    {
      "cell_type": "markdown",
      "metadata": {
        "id": "m9qKJK-EN75A"
      },
      "source": [
        "## Evaluación\n",
        "Antes de poder evaluar nuestro modelo, necesitamos agrupar las predicciones de cada uno, para poder compararlas:"
      ]
    },
    {
      "cell_type": "code",
      "execution_count": null,
      "metadata": {
        "id": "gzJs3-OvYP4N"
      },
      "outputs": [],
      "source": [
        "# Inicializar acumuladores\n",
        "predictions_model1 = []\n",
        "predictions_model2 = []\n",
        "predictions_model3 = []\n",
        "\n",
        "# Barrer la entrada y estimar las salidas:\n",
        "for i in range(len(test)):\n",
        "  predictions_model1.append(round(h(train['Oldpeak'].iloc[i], theta_model1)))\n",
        "  predictions_model2.append(round(h(train['Age'].iloc[i], theta_model2)))\n",
        "  predictions_model3.append(round(h(train['FastingBS'].iloc[i], theta_model3)))\n",
        "\n",
        "results_model1 = {'Predictions': predictions_model1, 'Real Value': test['HeartDisease']}\n",
        "df_model1 = pd.DataFrame(results_model1)\n",
        "\n",
        "results_model2 = {'Predictions': predictions_model2, 'Real Value': test['HeartDisease']}\n",
        "df_model2 = pd.DataFrame(results_model2)\n",
        "\n",
        "results_model3 = {'Predictions': predictions_model3, 'Real Value': test['HeartDisease']}\n",
        "df_model3 = pd.DataFrame(results_model3)"
      ]
    },
    {
      "cell_type": "markdown",
      "metadata": {
        "id": "wijEbLngJAVM"
      },
      "source": [
        "#### Comparación de predicciones con subset de pruebas"
      ]
    },
    {
      "cell_type": "code",
      "execution_count": null,
      "metadata": {
        "colab": {
          "base_uri": "https://localhost:8080/",
          "height": 206
        },
        "id": "LZQQludQKW__",
        "outputId": "43ad266e-bbcf-4a2c-c4c6-e9fbebf4b589"
      },
      "outputs": [
        {
          "data": {
            "text/html": [
              "\n",
              "  <div id=\"df-c95f1f75-2e11-4a88-a7ff-95f8972ce27b\" class=\"colab-df-container\">\n",
              "    <div>\n",
              "<style scoped>\n",
              "    .dataframe tbody tr th:only-of-type {\n",
              "        vertical-align: middle;\n",
              "    }\n",
              "\n",
              "    .dataframe tbody tr th {\n",
              "        vertical-align: top;\n",
              "    }\n",
              "\n",
              "    .dataframe thead th {\n",
              "        text-align: right;\n",
              "    }\n",
              "</style>\n",
              "<table border=\"1\" class=\"dataframe\">\n",
              "  <thead>\n",
              "    <tr style=\"text-align: right;\">\n",
              "      <th></th>\n",
              "      <th>Predictions</th>\n",
              "      <th>Real Value</th>\n",
              "    </tr>\n",
              "  </thead>\n",
              "  <tbody>\n",
              "    <tr>\n",
              "      <th>668</th>\n",
              "      <td>0</td>\n",
              "      <td>0</td>\n",
              "    </tr>\n",
              "    <tr>\n",
              "      <th>30</th>\n",
              "      <td>1</td>\n",
              "      <td>1</td>\n",
              "    </tr>\n",
              "    <tr>\n",
              "      <th>377</th>\n",
              "      <td>0</td>\n",
              "      <td>1</td>\n",
              "    </tr>\n",
              "    <tr>\n",
              "      <th>535</th>\n",
              "      <td>1</td>\n",
              "      <td>1</td>\n",
              "    </tr>\n",
              "    <tr>\n",
              "      <th>807</th>\n",
              "      <td>1</td>\n",
              "      <td>0</td>\n",
              "    </tr>\n",
              "  </tbody>\n",
              "</table>\n",
              "</div>\n",
              "    <div class=\"colab-df-buttons\">\n",
              "\n",
              "  <div class=\"colab-df-container\">\n",
              "    <button class=\"colab-df-convert\" onclick=\"convertToInteractive('df-c95f1f75-2e11-4a88-a7ff-95f8972ce27b')\"\n",
              "            title=\"Convert this dataframe to an interactive table.\"\n",
              "            style=\"display:none;\">\n",
              "\n",
              "  <svg xmlns=\"http://www.w3.org/2000/svg\" height=\"24px\" viewBox=\"0 -960 960 960\">\n",
              "    <path d=\"M120-120v-720h720v720H120Zm60-500h600v-160H180v160Zm220 220h160v-160H400v160Zm0 220h160v-160H400v160ZM180-400h160v-160H180v160Zm440 0h160v-160H620v160ZM180-180h160v-160H180v160Zm440 0h160v-160H620v160Z\"/>\n",
              "  </svg>\n",
              "    </button>\n",
              "\n",
              "  <style>\n",
              "    .colab-df-container {\n",
              "      display:flex;\n",
              "      gap: 12px;\n",
              "    }\n",
              "\n",
              "    .colab-df-convert {\n",
              "      background-color: #E8F0FE;\n",
              "      border: none;\n",
              "      border-radius: 50%;\n",
              "      cursor: pointer;\n",
              "      display: none;\n",
              "      fill: #1967D2;\n",
              "      height: 32px;\n",
              "      padding: 0 0 0 0;\n",
              "      width: 32px;\n",
              "    }\n",
              "\n",
              "    .colab-df-convert:hover {\n",
              "      background-color: #E2EBFA;\n",
              "      box-shadow: 0px 1px 2px rgba(60, 64, 67, 0.3), 0px 1px 3px 1px rgba(60, 64, 67, 0.15);\n",
              "      fill: #174EA6;\n",
              "    }\n",
              "\n",
              "    .colab-df-buttons div {\n",
              "      margin-bottom: 4px;\n",
              "    }\n",
              "\n",
              "    [theme=dark] .colab-df-convert {\n",
              "      background-color: #3B4455;\n",
              "      fill: #D2E3FC;\n",
              "    }\n",
              "\n",
              "    [theme=dark] .colab-df-convert:hover {\n",
              "      background-color: #434B5C;\n",
              "      box-shadow: 0px 1px 3px 1px rgba(0, 0, 0, 0.15);\n",
              "      filter: drop-shadow(0px 1px 2px rgba(0, 0, 0, 0.3));\n",
              "      fill: #FFFFFF;\n",
              "    }\n",
              "  </style>\n",
              "\n",
              "    <script>\n",
              "      const buttonEl =\n",
              "        document.querySelector('#df-c95f1f75-2e11-4a88-a7ff-95f8972ce27b button.colab-df-convert');\n",
              "      buttonEl.style.display =\n",
              "        google.colab.kernel.accessAllowed ? 'block' : 'none';\n",
              "\n",
              "      async function convertToInteractive(key) {\n",
              "        const element = document.querySelector('#df-c95f1f75-2e11-4a88-a7ff-95f8972ce27b');\n",
              "        const dataTable =\n",
              "          await google.colab.kernel.invokeFunction('convertToInteractive',\n",
              "                                                    [key], {});\n",
              "        if (!dataTable) return;\n",
              "\n",
              "        const docLinkHtml = 'Like what you see? Visit the ' +\n",
              "          '<a target=\"_blank\" href=https://colab.research.google.com/notebooks/data_table.ipynb>data table notebook</a>'\n",
              "          + ' to learn more about interactive tables.';\n",
              "        element.innerHTML = '';\n",
              "        dataTable['output_type'] = 'display_data';\n",
              "        await google.colab.output.renderOutput(dataTable, element);\n",
              "        const docLink = document.createElement('div');\n",
              "        docLink.innerHTML = docLinkHtml;\n",
              "        element.appendChild(docLink);\n",
              "      }\n",
              "    </script>\n",
              "  </div>\n",
              "\n",
              "\n",
              "<div id=\"df-494fcfdb-d04a-4e79-91d2-87177ebad4a7\">\n",
              "  <button class=\"colab-df-quickchart\" onclick=\"quickchart('df-494fcfdb-d04a-4e79-91d2-87177ebad4a7')\"\n",
              "            title=\"Suggest charts.\"\n",
              "            style=\"display:none;\">\n",
              "\n",
              "<svg xmlns=\"http://www.w3.org/2000/svg\" height=\"24px\"viewBox=\"0 0 24 24\"\n",
              "     width=\"24px\">\n",
              "    <g>\n",
              "        <path d=\"M19 3H5c-1.1 0-2 .9-2 2v14c0 1.1.9 2 2 2h14c1.1 0 2-.9 2-2V5c0-1.1-.9-2-2-2zM9 17H7v-7h2v7zm4 0h-2V7h2v10zm4 0h-2v-4h2v4z\"/>\n",
              "    </g>\n",
              "</svg>\n",
              "  </button>\n",
              "\n",
              "<style>\n",
              "  .colab-df-quickchart {\n",
              "    background-color: #E8F0FE;\n",
              "    border: none;\n",
              "    border-radius: 50%;\n",
              "    cursor: pointer;\n",
              "    display: none;\n",
              "    fill: #1967D2;\n",
              "    height: 32px;\n",
              "    padding: 0 0 0 0;\n",
              "    width: 32px;\n",
              "  }\n",
              "\n",
              "  .colab-df-quickchart:hover {\n",
              "    background-color: #E2EBFA;\n",
              "    box-shadow: 0px 1px 2px rgba(60, 64, 67, 0.3), 0px 1px 3px 1px rgba(60, 64, 67, 0.15);\n",
              "    fill: #174EA6;\n",
              "  }\n",
              "\n",
              "  [theme=dark] .colab-df-quickchart {\n",
              "    background-color: #3B4455;\n",
              "    fill: #D2E3FC;\n",
              "  }\n",
              "\n",
              "  [theme=dark] .colab-df-quickchart:hover {\n",
              "    background-color: #434B5C;\n",
              "    box-shadow: 0px 1px 3px 1px rgba(0, 0, 0, 0.15);\n",
              "    filter: drop-shadow(0px 1px 2px rgba(0, 0, 0, 0.3));\n",
              "    fill: #FFFFFF;\n",
              "  }\n",
              "</style>\n",
              "\n",
              "  <script>\n",
              "    async function quickchart(key) {\n",
              "      const charts = await google.colab.kernel.invokeFunction(\n",
              "          'suggestCharts', [key], {});\n",
              "    }\n",
              "    (() => {\n",
              "      let quickchartButtonEl =\n",
              "        document.querySelector('#df-494fcfdb-d04a-4e79-91d2-87177ebad4a7 button');\n",
              "      quickchartButtonEl.style.display =\n",
              "        google.colab.kernel.accessAllowed ? 'block' : 'none';\n",
              "    })();\n",
              "  </script>\n",
              "</div>\n",
              "    </div>\n",
              "  </div>\n"
            ],
            "text/plain": [
              "     Predictions  Real Value\n",
              "668            0           0\n",
              "30             1           1\n",
              "377            0           1\n",
              "535            1           1\n",
              "807            1           0"
            ]
          },
          "execution_count": 17,
          "metadata": {},
          "output_type": "execute_result"
        }
      ],
      "source": [
        "df_model1.head()"
      ]
    },
    {
      "cell_type": "code",
      "execution_count": null,
      "metadata": {
        "colab": {
          "base_uri": "https://localhost:8080/",
          "height": 206
        },
        "id": "bE8lwXK4KW2y",
        "outputId": "db7ccad9-ed23-488d-df8a-9fce65e5acce"
      },
      "outputs": [
        {
          "data": {
            "text/html": [
              "\n",
              "  <div id=\"df-bad73475-ac0a-4a8f-97bb-f51b5c5969be\" class=\"colab-df-container\">\n",
              "    <div>\n",
              "<style scoped>\n",
              "    .dataframe tbody tr th:only-of-type {\n",
              "        vertical-align: middle;\n",
              "    }\n",
              "\n",
              "    .dataframe tbody tr th {\n",
              "        vertical-align: top;\n",
              "    }\n",
              "\n",
              "    .dataframe thead th {\n",
              "        text-align: right;\n",
              "    }\n",
              "</style>\n",
              "<table border=\"1\" class=\"dataframe\">\n",
              "  <thead>\n",
              "    <tr style=\"text-align: right;\">\n",
              "      <th></th>\n",
              "      <th>Predictions</th>\n",
              "      <th>Real Value</th>\n",
              "    </tr>\n",
              "  </thead>\n",
              "  <tbody>\n",
              "    <tr>\n",
              "      <th>668</th>\n",
              "      <td>1</td>\n",
              "      <td>0</td>\n",
              "    </tr>\n",
              "    <tr>\n",
              "      <th>30</th>\n",
              "      <td>1</td>\n",
              "      <td>1</td>\n",
              "    </tr>\n",
              "    <tr>\n",
              "      <th>377</th>\n",
              "      <td>1</td>\n",
              "      <td>1</td>\n",
              "    </tr>\n",
              "    <tr>\n",
              "      <th>535</th>\n",
              "      <td>1</td>\n",
              "      <td>1</td>\n",
              "    </tr>\n",
              "    <tr>\n",
              "      <th>807</th>\n",
              "      <td>1</td>\n",
              "      <td>0</td>\n",
              "    </tr>\n",
              "  </tbody>\n",
              "</table>\n",
              "</div>\n",
              "    <div class=\"colab-df-buttons\">\n",
              "\n",
              "  <div class=\"colab-df-container\">\n",
              "    <button class=\"colab-df-convert\" onclick=\"convertToInteractive('df-bad73475-ac0a-4a8f-97bb-f51b5c5969be')\"\n",
              "            title=\"Convert this dataframe to an interactive table.\"\n",
              "            style=\"display:none;\">\n",
              "\n",
              "  <svg xmlns=\"http://www.w3.org/2000/svg\" height=\"24px\" viewBox=\"0 -960 960 960\">\n",
              "    <path d=\"M120-120v-720h720v720H120Zm60-500h600v-160H180v160Zm220 220h160v-160H400v160Zm0 220h160v-160H400v160ZM180-400h160v-160H180v160Zm440 0h160v-160H620v160ZM180-180h160v-160H180v160Zm440 0h160v-160H620v160Z\"/>\n",
              "  </svg>\n",
              "    </button>\n",
              "\n",
              "  <style>\n",
              "    .colab-df-container {\n",
              "      display:flex;\n",
              "      gap: 12px;\n",
              "    }\n",
              "\n",
              "    .colab-df-convert {\n",
              "      background-color: #E8F0FE;\n",
              "      border: none;\n",
              "      border-radius: 50%;\n",
              "      cursor: pointer;\n",
              "      display: none;\n",
              "      fill: #1967D2;\n",
              "      height: 32px;\n",
              "      padding: 0 0 0 0;\n",
              "      width: 32px;\n",
              "    }\n",
              "\n",
              "    .colab-df-convert:hover {\n",
              "      background-color: #E2EBFA;\n",
              "      box-shadow: 0px 1px 2px rgba(60, 64, 67, 0.3), 0px 1px 3px 1px rgba(60, 64, 67, 0.15);\n",
              "      fill: #174EA6;\n",
              "    }\n",
              "\n",
              "    .colab-df-buttons div {\n",
              "      margin-bottom: 4px;\n",
              "    }\n",
              "\n",
              "    [theme=dark] .colab-df-convert {\n",
              "      background-color: #3B4455;\n",
              "      fill: #D2E3FC;\n",
              "    }\n",
              "\n",
              "    [theme=dark] .colab-df-convert:hover {\n",
              "      background-color: #434B5C;\n",
              "      box-shadow: 0px 1px 3px 1px rgba(0, 0, 0, 0.15);\n",
              "      filter: drop-shadow(0px 1px 2px rgba(0, 0, 0, 0.3));\n",
              "      fill: #FFFFFF;\n",
              "    }\n",
              "  </style>\n",
              "\n",
              "    <script>\n",
              "      const buttonEl =\n",
              "        document.querySelector('#df-bad73475-ac0a-4a8f-97bb-f51b5c5969be button.colab-df-convert');\n",
              "      buttonEl.style.display =\n",
              "        google.colab.kernel.accessAllowed ? 'block' : 'none';\n",
              "\n",
              "      async function convertToInteractive(key) {\n",
              "        const element = document.querySelector('#df-bad73475-ac0a-4a8f-97bb-f51b5c5969be');\n",
              "        const dataTable =\n",
              "          await google.colab.kernel.invokeFunction('convertToInteractive',\n",
              "                                                    [key], {});\n",
              "        if (!dataTable) return;\n",
              "\n",
              "        const docLinkHtml = 'Like what you see? Visit the ' +\n",
              "          '<a target=\"_blank\" href=https://colab.research.google.com/notebooks/data_table.ipynb>data table notebook</a>'\n",
              "          + ' to learn more about interactive tables.';\n",
              "        element.innerHTML = '';\n",
              "        dataTable['output_type'] = 'display_data';\n",
              "        await google.colab.output.renderOutput(dataTable, element);\n",
              "        const docLink = document.createElement('div');\n",
              "        docLink.innerHTML = docLinkHtml;\n",
              "        element.appendChild(docLink);\n",
              "      }\n",
              "    </script>\n",
              "  </div>\n",
              "\n",
              "\n",
              "<div id=\"df-fe8909ab-095f-4893-9c06-1b28e4ad04c9\">\n",
              "  <button class=\"colab-df-quickchart\" onclick=\"quickchart('df-fe8909ab-095f-4893-9c06-1b28e4ad04c9')\"\n",
              "            title=\"Suggest charts.\"\n",
              "            style=\"display:none;\">\n",
              "\n",
              "<svg xmlns=\"http://www.w3.org/2000/svg\" height=\"24px\"viewBox=\"0 0 24 24\"\n",
              "     width=\"24px\">\n",
              "    <g>\n",
              "        <path d=\"M19 3H5c-1.1 0-2 .9-2 2v14c0 1.1.9 2 2 2h14c1.1 0 2-.9 2-2V5c0-1.1-.9-2-2-2zM9 17H7v-7h2v7zm4 0h-2V7h2v10zm4 0h-2v-4h2v4z\"/>\n",
              "    </g>\n",
              "</svg>\n",
              "  </button>\n",
              "\n",
              "<style>\n",
              "  .colab-df-quickchart {\n",
              "    background-color: #E8F0FE;\n",
              "    border: none;\n",
              "    border-radius: 50%;\n",
              "    cursor: pointer;\n",
              "    display: none;\n",
              "    fill: #1967D2;\n",
              "    height: 32px;\n",
              "    padding: 0 0 0 0;\n",
              "    width: 32px;\n",
              "  }\n",
              "\n",
              "  .colab-df-quickchart:hover {\n",
              "    background-color: #E2EBFA;\n",
              "    box-shadow: 0px 1px 2px rgba(60, 64, 67, 0.3), 0px 1px 3px 1px rgba(60, 64, 67, 0.15);\n",
              "    fill: #174EA6;\n",
              "  }\n",
              "\n",
              "  [theme=dark] .colab-df-quickchart {\n",
              "    background-color: #3B4455;\n",
              "    fill: #D2E3FC;\n",
              "  }\n",
              "\n",
              "  [theme=dark] .colab-df-quickchart:hover {\n",
              "    background-color: #434B5C;\n",
              "    box-shadow: 0px 1px 3px 1px rgba(0, 0, 0, 0.15);\n",
              "    filter: drop-shadow(0px 1px 2px rgba(0, 0, 0, 0.3));\n",
              "    fill: #FFFFFF;\n",
              "  }\n",
              "</style>\n",
              "\n",
              "  <script>\n",
              "    async function quickchart(key) {\n",
              "      const charts = await google.colab.kernel.invokeFunction(\n",
              "          'suggestCharts', [key], {});\n",
              "    }\n",
              "    (() => {\n",
              "      let quickchartButtonEl =\n",
              "        document.querySelector('#df-fe8909ab-095f-4893-9c06-1b28e4ad04c9 button');\n",
              "      quickchartButtonEl.style.display =\n",
              "        google.colab.kernel.accessAllowed ? 'block' : 'none';\n",
              "    })();\n",
              "  </script>\n",
              "</div>\n",
              "    </div>\n",
              "  </div>\n"
            ],
            "text/plain": [
              "     Predictions  Real Value\n",
              "668            1           0\n",
              "30             1           1\n",
              "377            1           1\n",
              "535            1           1\n",
              "807            1           0"
            ]
          },
          "execution_count": 18,
          "metadata": {},
          "output_type": "execute_result"
        }
      ],
      "source": [
        "df_model2.head()"
      ]
    },
    {
      "cell_type": "code",
      "execution_count": null,
      "metadata": {
        "colab": {
          "base_uri": "https://localhost:8080/",
          "height": 206
        },
        "id": "_DT2VOtAKWrN",
        "outputId": "224d01d3-e162-49df-df5e-fa3caa0bde46"
      },
      "outputs": [
        {
          "data": {
            "text/html": [
              "\n",
              "  <div id=\"df-3af52054-d550-46a8-b413-8c64d846857e\" class=\"colab-df-container\">\n",
              "    <div>\n",
              "<style scoped>\n",
              "    .dataframe tbody tr th:only-of-type {\n",
              "        vertical-align: middle;\n",
              "    }\n",
              "\n",
              "    .dataframe tbody tr th {\n",
              "        vertical-align: top;\n",
              "    }\n",
              "\n",
              "    .dataframe thead th {\n",
              "        text-align: right;\n",
              "    }\n",
              "</style>\n",
              "<table border=\"1\" class=\"dataframe\">\n",
              "  <thead>\n",
              "    <tr style=\"text-align: right;\">\n",
              "      <th></th>\n",
              "      <th>Predictions</th>\n",
              "      <th>Real Value</th>\n",
              "    </tr>\n",
              "  </thead>\n",
              "  <tbody>\n",
              "    <tr>\n",
              "      <th>668</th>\n",
              "      <td>0</td>\n",
              "      <td>0</td>\n",
              "    </tr>\n",
              "    <tr>\n",
              "      <th>30</th>\n",
              "      <td>1</td>\n",
              "      <td>1</td>\n",
              "    </tr>\n",
              "    <tr>\n",
              "      <th>377</th>\n",
              "      <td>1</td>\n",
              "      <td>1</td>\n",
              "    </tr>\n",
              "    <tr>\n",
              "      <th>535</th>\n",
              "      <td>1</td>\n",
              "      <td>1</td>\n",
              "    </tr>\n",
              "    <tr>\n",
              "      <th>807</th>\n",
              "      <td>1</td>\n",
              "      <td>0</td>\n",
              "    </tr>\n",
              "  </tbody>\n",
              "</table>\n",
              "</div>\n",
              "    <div class=\"colab-df-buttons\">\n",
              "\n",
              "  <div class=\"colab-df-container\">\n",
              "    <button class=\"colab-df-convert\" onclick=\"convertToInteractive('df-3af52054-d550-46a8-b413-8c64d846857e')\"\n",
              "            title=\"Convert this dataframe to an interactive table.\"\n",
              "            style=\"display:none;\">\n",
              "\n",
              "  <svg xmlns=\"http://www.w3.org/2000/svg\" height=\"24px\" viewBox=\"0 -960 960 960\">\n",
              "    <path d=\"M120-120v-720h720v720H120Zm60-500h600v-160H180v160Zm220 220h160v-160H400v160Zm0 220h160v-160H400v160ZM180-400h160v-160H180v160Zm440 0h160v-160H620v160ZM180-180h160v-160H180v160Zm440 0h160v-160H620v160Z\"/>\n",
              "  </svg>\n",
              "    </button>\n",
              "\n",
              "  <style>\n",
              "    .colab-df-container {\n",
              "      display:flex;\n",
              "      gap: 12px;\n",
              "    }\n",
              "\n",
              "    .colab-df-convert {\n",
              "      background-color: #E8F0FE;\n",
              "      border: none;\n",
              "      border-radius: 50%;\n",
              "      cursor: pointer;\n",
              "      display: none;\n",
              "      fill: #1967D2;\n",
              "      height: 32px;\n",
              "      padding: 0 0 0 0;\n",
              "      width: 32px;\n",
              "    }\n",
              "\n",
              "    .colab-df-convert:hover {\n",
              "      background-color: #E2EBFA;\n",
              "      box-shadow: 0px 1px 2px rgba(60, 64, 67, 0.3), 0px 1px 3px 1px rgba(60, 64, 67, 0.15);\n",
              "      fill: #174EA6;\n",
              "    }\n",
              "\n",
              "    .colab-df-buttons div {\n",
              "      margin-bottom: 4px;\n",
              "    }\n",
              "\n",
              "    [theme=dark] .colab-df-convert {\n",
              "      background-color: #3B4455;\n",
              "      fill: #D2E3FC;\n",
              "    }\n",
              "\n",
              "    [theme=dark] .colab-df-convert:hover {\n",
              "      background-color: #434B5C;\n",
              "      box-shadow: 0px 1px 3px 1px rgba(0, 0, 0, 0.15);\n",
              "      filter: drop-shadow(0px 1px 2px rgba(0, 0, 0, 0.3));\n",
              "      fill: #FFFFFF;\n",
              "    }\n",
              "  </style>\n",
              "\n",
              "    <script>\n",
              "      const buttonEl =\n",
              "        document.querySelector('#df-3af52054-d550-46a8-b413-8c64d846857e button.colab-df-convert');\n",
              "      buttonEl.style.display =\n",
              "        google.colab.kernel.accessAllowed ? 'block' : 'none';\n",
              "\n",
              "      async function convertToInteractive(key) {\n",
              "        const element = document.querySelector('#df-3af52054-d550-46a8-b413-8c64d846857e');\n",
              "        const dataTable =\n",
              "          await google.colab.kernel.invokeFunction('convertToInteractive',\n",
              "                                                    [key], {});\n",
              "        if (!dataTable) return;\n",
              "\n",
              "        const docLinkHtml = 'Like what you see? Visit the ' +\n",
              "          '<a target=\"_blank\" href=https://colab.research.google.com/notebooks/data_table.ipynb>data table notebook</a>'\n",
              "          + ' to learn more about interactive tables.';\n",
              "        element.innerHTML = '';\n",
              "        dataTable['output_type'] = 'display_data';\n",
              "        await google.colab.output.renderOutput(dataTable, element);\n",
              "        const docLink = document.createElement('div');\n",
              "        docLink.innerHTML = docLinkHtml;\n",
              "        element.appendChild(docLink);\n",
              "      }\n",
              "    </script>\n",
              "  </div>\n",
              "\n",
              "\n",
              "<div id=\"df-cbfd0aa5-9d82-4a09-87e1-174db6c5ddce\">\n",
              "  <button class=\"colab-df-quickchart\" onclick=\"quickchart('df-cbfd0aa5-9d82-4a09-87e1-174db6c5ddce')\"\n",
              "            title=\"Suggest charts.\"\n",
              "            style=\"display:none;\">\n",
              "\n",
              "<svg xmlns=\"http://www.w3.org/2000/svg\" height=\"24px\"viewBox=\"0 0 24 24\"\n",
              "     width=\"24px\">\n",
              "    <g>\n",
              "        <path d=\"M19 3H5c-1.1 0-2 .9-2 2v14c0 1.1.9 2 2 2h14c1.1 0 2-.9 2-2V5c0-1.1-.9-2-2-2zM9 17H7v-7h2v7zm4 0h-2V7h2v10zm4 0h-2v-4h2v4z\"/>\n",
              "    </g>\n",
              "</svg>\n",
              "  </button>\n",
              "\n",
              "<style>\n",
              "  .colab-df-quickchart {\n",
              "    background-color: #E8F0FE;\n",
              "    border: none;\n",
              "    border-radius: 50%;\n",
              "    cursor: pointer;\n",
              "    display: none;\n",
              "    fill: #1967D2;\n",
              "    height: 32px;\n",
              "    padding: 0 0 0 0;\n",
              "    width: 32px;\n",
              "  }\n",
              "\n",
              "  .colab-df-quickchart:hover {\n",
              "    background-color: #E2EBFA;\n",
              "    box-shadow: 0px 1px 2px rgba(60, 64, 67, 0.3), 0px 1px 3px 1px rgba(60, 64, 67, 0.15);\n",
              "    fill: #174EA6;\n",
              "  }\n",
              "\n",
              "  [theme=dark] .colab-df-quickchart {\n",
              "    background-color: #3B4455;\n",
              "    fill: #D2E3FC;\n",
              "  }\n",
              "\n",
              "  [theme=dark] .colab-df-quickchart:hover {\n",
              "    background-color: #434B5C;\n",
              "    box-shadow: 0px 1px 3px 1px rgba(0, 0, 0, 0.15);\n",
              "    filter: drop-shadow(0px 1px 2px rgba(0, 0, 0, 0.3));\n",
              "    fill: #FFFFFF;\n",
              "  }\n",
              "</style>\n",
              "\n",
              "  <script>\n",
              "    async function quickchart(key) {\n",
              "      const charts = await google.colab.kernel.invokeFunction(\n",
              "          'suggestCharts', [key], {});\n",
              "    }\n",
              "    (() => {\n",
              "      let quickchartButtonEl =\n",
              "        document.querySelector('#df-cbfd0aa5-9d82-4a09-87e1-174db6c5ddce button');\n",
              "      quickchartButtonEl.style.display =\n",
              "        google.colab.kernel.accessAllowed ? 'block' : 'none';\n",
              "    })();\n",
              "  </script>\n",
              "</div>\n",
              "    </div>\n",
              "  </div>\n"
            ],
            "text/plain": [
              "     Predictions  Real Value\n",
              "668            0           0\n",
              "30             1           1\n",
              "377            1           1\n",
              "535            1           1\n",
              "807            1           0"
            ]
          },
          "execution_count": 19,
          "metadata": {},
          "output_type": "execute_result"
        }
      ],
      "source": [
        "df_model3.head()"
      ]
    },
    {
      "cell_type": "code",
      "execution_count": null,
      "metadata": {
        "colab": {
          "base_uri": "https://localhost:8080/"
        },
        "id": "2GyKj0syVSsu",
        "outputId": "12d3f50d-4542-4b22-9b9c-a25c17c6ff57"
      },
      "outputs": [
        {
          "name": "stdout",
          "output_type": "stream",
          "text": [
            "VP Modelo 1 =  73\n",
            "FP Modelo 1 =  61\n",
            "VN Modelo 1 =  51\n",
            "FN Modelo 1 =  91\n",
            "VP Modelo 2 =  164\n",
            "FP Modelo 2 =  112\n",
            "VN Modelo 2 =  0\n",
            "FN Modelo 2 =  0\n",
            "VP Modelo 3 =  36\n",
            "FP Modelo 3 =  17\n",
            "VN Modelo 3 =  95\n",
            "FN Modelo 3 =  128\n"
          ]
        }
      ],
      "source": [
        "# Inicializar contadores para VP, FP, VN, FN (modelo 1)\n",
        "\n",
        "#variables para matriz de confusion del modelo 1 (oldpeak)\n",
        "VP_m1 = 0\n",
        "FP_m1 = 0\n",
        "VN_m1 = 0\n",
        "FN_m1 = 0\n",
        "\n",
        "#variables para matriz de confusion del modelo 2 (age)\n",
        "VP_m2 = 0\n",
        "FP_m2 = 0\n",
        "VN_m2 = 0\n",
        "FN_m2 = 0\n",
        "\n",
        "#variables para matriz de confusion del modelo 2 (FastingBS)\n",
        "VP_m3 = 0\n",
        "FP_m3 = 0\n",
        "VN_m3 = 0\n",
        "FN_m3 = 0\n",
        "\n",
        "# Barrer datos reales y predicciones (modelo 1)\n",
        "for i in range(len(df_model1)):\n",
        "    value = df_model1['Real Value'].iloc[i]\n",
        "    prediction = df_model1['Predictions'].iloc[i]\n",
        "\n",
        "    # Analizar opciones para dato real == 1\n",
        "    if value == 1:\n",
        "      # Analizar si predicción == 1 (VP) o == 0 (FN)\n",
        "      if prediction == 1:\n",
        "        VP_m1 += 1\n",
        "      else:\n",
        "        FN_m1 += 1\n",
        "\n",
        "    # Analizar opciones para dato real == 0\n",
        "    if value == 0:\n",
        "      # Analizar si predicción == 1 (FP) o == 0 (VN)\n",
        "      if prediction == 1:\n",
        "        FP_m1 += 1\n",
        "      else:\n",
        "        VN_m1 += 1\n",
        "\n",
        "\n",
        "# Barrer datos reales y predicciones (modelo 1)\n",
        "for i in range(len(df_model2)):\n",
        "    value = df_model2['Real Value'].iloc[i]\n",
        "    prediction = df_model2['Predictions'].iloc[i]\n",
        "\n",
        "    # Analizar opciones para dato real == 1\n",
        "    if value == 1:\n",
        "      # Analizar si predicción == 1 (VP) o == 0 (FN)\n",
        "      if prediction == 1:\n",
        "        VP_m2 += 1\n",
        "      else:\n",
        "        FN_m2 += 1\n",
        "\n",
        "    # Analizar opciones para dato real == 0\n",
        "    if value == 0:\n",
        "      # Analizar si predicción == 1 (FP) o == 0 (VN)\n",
        "      if prediction == 1:\n",
        "        FP_m2 += 1\n",
        "      else:\n",
        "        VN_m2 += 1\n",
        "\n",
        "# Barrer datos reales y predicciones (modelo 1)\n",
        "for i in range(len(df_model3)):\n",
        "    value = df_model3['Real Value'].iloc[i]\n",
        "    prediction = df_model3['Predictions'].iloc[i]\n",
        "\n",
        "    # Analizar opciones para dato real == 1\n",
        "    if value == 1:\n",
        "      # Analizar si predicción == 1 (VP) o == 0 (FN)\n",
        "      if prediction == 1:\n",
        "        VP_m3 += 1\n",
        "      else:\n",
        "        FN_m3 += 1\n",
        "\n",
        "    # Analizar opciones para dato real == 0\n",
        "    if value == 0:\n",
        "      # Analizar si predicción == 1 (FP) o == 0 (VN)\n",
        "      if prediction == 1:\n",
        "        FP_m3 += 1\n",
        "      else:\n",
        "        VN_m3 += 1\n",
        "\n",
        "\n",
        "\n",
        "print(\"VP Modelo 1 = \", VP_m1)\n",
        "print(\"FP Modelo 1 = \", FP_m1)\n",
        "print(\"VN Modelo 1 = \", VN_m1)\n",
        "print(\"FN Modelo 1 = \", FN_m1)\n",
        "\n",
        "print(\"VP Modelo 2 = \", VP_m2)\n",
        "print(\"FP Modelo 2 = \", FP_m2)\n",
        "print(\"VN Modelo 2 = \", VN_m2)\n",
        "print(\"FN Modelo 2 = \", FN_m2)\n",
        "\n",
        "print(\"VP Modelo 3 = \", VP_m3)\n",
        "print(\"FP Modelo 3 = \", FP_m3)\n",
        "print(\"VN Modelo 3 = \", VN_m3)\n",
        "print(\"FN Modelo 3 = \", FN_m3)"
      ]
    },
    {
      "cell_type": "markdown",
      "metadata": {
        "id": "NHt8JStVK4FW"
      },
      "source": [
        "#### Matrices de confusion y metricas de desempeño para el subset de entrenamiento y de pruebas"
      ]
    },
    {
      "cell_type": "markdown",
      "metadata": {
        "id": "QPH-AV_gkRyQ"
      },
      "source": [
        "Para estimar qué tan bueno es cada clasificador, debemos generar las matrices de confusión y las correspondientes métricas:\n",
        "\n",
        "$accuracy = \\frac{VP+VN}{VP+VN+FP+FN}$\n",
        "- Accuracy (Exactitud): Calcula la proporción de predicciones correctas totales del modelo en relación con el número total de predicciones. Es útil cuando las clases están balanceadas.\n",
        "\n",
        "$precision = \\frac{VP}{VP+FP}$\n",
        "- Precision (Precisión): Evalúa la proporción de instancias positivas que el modelo clasifica correctamente en relación con todas las instancias que predijo como positivas. Es especialmente importante cuando los falsos positivos son costosos o problemáticos.\n",
        "\n",
        "$recall = \\frac{VP}{VP+FN}$\n",
        "- Recall (Recuerdo o Sensibilidad): Mide la proporción de positivos reales que el modelo identifica correctamente en relación con todos los positivos reales presentes en los datos.\n",
        "\n",
        "\n",
        "$F1 = \\frac{2\\cdot precision \\cdot recall}{precision+recall}$\n",
        "- F1 Score: Es una métrica que combina precisión y recall para proporcionar una medida equilibrada del rendimiento del modelo, especialmente cuando hay un desequilibrio entre las clases.\n",
        "\n",
        "\n"
      ]
    },
    {
      "cell_type": "code",
      "execution_count": null,
      "metadata": {
        "colab": {
          "base_uri": "https://localhost:8080/"
        },
        "id": "o5B5kJhQN-W1",
        "outputId": "e12a5ab5-b857-49a0-fb03-37b1598d9f4c"
      },
      "outputs": [
        {
          "name": "stdout",
          "output_type": "stream",
          "text": [
            "Accuracy Modelo 1 =  0.4492753623188406\n",
            "Precision Modelo 1 =  0.5447761194029851\n",
            "Recall Modelo 1 =  0.4451219512195122\n",
            "F1 Modelo 1 =  0.4899328859060403\n",
            "------------------------------\n",
            "Accuracy Modelo 2 =  0.5942028985507246\n",
            "Precision Modelo 2 =  0.5942028985507246\n",
            "Recall Modelo 2 =  1.0\n",
            "F1 Modelo 2 =  0.7454545454545455\n",
            "------------------------------\n",
            "Accuracy Modelo 3 =  0.4746376811594203\n",
            "Precision Modelo 3 =  0.6792452830188679\n",
            "Recall Modelo 3 =  0.21951219512195122\n",
            "F1 Modelo 3 =  0.3317972350230415\n"
          ]
        }
      ],
      "source": [
        "# Calcular métricas para modelo 1\n",
        "acccuracy_m1 = (VP_m1 + VN_m1) / (VP_m1 + VN_m1 + FP_m1 + FN_m1)\n",
        "precision_m1 = (VP_m1) / (VP_m1 + FP_m1)\n",
        "recall_m1 = (VP_m1) / (VP_m1 + FN_m1)\n",
        "f1_m1 = (2 * precision_m1 * recall_m1) / (precision_m1 + recall_m1)\n",
        "\n",
        "print(\"Accuracy Modelo 1 = \", acccuracy_m1)\n",
        "print(\"Precision Modelo 1 = \", precision_m1)\n",
        "print(\"Recall Modelo 1 = \", recall_m1)\n",
        "print(\"F1 Modelo 1 = \", f1_m1)\n",
        "\n",
        "print(\"------------------------------\")\n",
        "\n",
        "# Calcular métricas para modelo 2\n",
        "acccuracy_m2 = (VP_m2 + VN_m2) / (VP_m2 + VN_m2 + FP_m2 + FN_m2)\n",
        "precision_m2 = (VP_m2) / (VP_m2 + FP_m2)\n",
        "recall_m2 = (VP_m2) / (VP_m2 + FN_m2)\n",
        "f1_m2 = (2 * precision_m2 * recall_m2) / (precision_m2 + recall_m2)\n",
        "\n",
        "print(\"Accuracy Modelo 2 = \", acccuracy_m2)\n",
        "print(\"Precision Modelo 2 = \", precision_m2)\n",
        "print(\"Recall Modelo 2 = \", recall_m2)\n",
        "print(\"F1 Modelo 2 = \", f1_m2)\n",
        "\n",
        "print(\"------------------------------\")\n",
        "\n",
        "# Calcular métricas para modelo 2\n",
        "acccuracy_m3 = (VP_m3 + VN_m3) / (VP_m3 + VN_m3 + FP_m3 + FN_m3)\n",
        "precision_m3 = (VP_m3) / (VP_m3 + FP_m3)\n",
        "recall_m3 = (VP_m3) / (VP_m3 + FN_m3)\n",
        "f1_m3 = (2 * precision_m3 * recall_m3) / (precision_m3 + recall_m3)\n",
        "\n",
        "print(\"Accuracy Modelo 3 = \", acccuracy_m3)\n",
        "print(\"Precision Modelo 3 = \", precision_m3)\n",
        "print(\"Recall Modelo 3 = \", recall_m3)\n",
        "print(\"F1 Modelo 3 = \", f1_m3)"
      ]
    },
    {
      "cell_type": "markdown",
      "metadata": {
        "id": "Xduf3ONLTfzU"
      },
      "source": [
        "#### Analisis de resultados de las metricas de evaluacion\n",
        " Despues de calcular los valores de la matriz de confusión para cada una de las implementaciones del modelo y el posterior calculo de las metricas de evaluacion en base a estas se encontró lo siguiente:\n",
        "\n",
        " 1. La variable que mejor desempeño tiene para la prediccion de clasificacion de la variable objetivo es FastingBS acorde a el analisis general de todas las metricas.\n",
        " 2. Pese a que la variable Age parece tener un mejor accuracy, el analisis de las otras medidas muestra que su desempeño no es optimo.\n",
        " 3. Se propone hacer un modelo donde se pueda hacer un analisis de las 3 variables en conjunto en busqueda de resultados mas balanceados."
      ]
    }
  ],
  "metadata": {
    "colab": {
      "provenance": []
    },
    "kernelspec": {
      "display_name": "Python 3",
      "name": "python3"
    },
    "language_info": {
      "name": "python"
    }
  },
  "nbformat": 4,
  "nbformat_minor": 0
}
